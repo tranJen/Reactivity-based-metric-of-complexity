{
 "cells": [
  {
   "cell_type": "code",
   "execution_count": 1,
   "id": "e31120cc",
   "metadata": {},
   "outputs": [],
   "source": [
    "import os\n",
    "import pandas as pd\n",
    "import sweetviz as sv"
   ]
  },
  {
   "cell_type": "markdown",
   "id": "edbece9a",
   "metadata": {},
   "source": [
    "# <span style=\"color:blue\"> Search data on Reaxys </span>\n",
    "\n",
    "- cyclopentanone → cyclopentanol, map C-carbonyl → give 60,455 reactions\n",
    "    - limit to sodium tetrahydroborate, tetrahydrofuran, single-step, article → give 835 reactions\n",
    "    - exclude NA yield → **483 reactions**\n",
    "- cyclohexanone → cyclohexanol, map C-carbonyl → give 61,693 reactions\n",
    "    - limit to sodium tetrahydroborate, tetrahydrofuran, single-step, article → give 1,125 reactions\n",
    "    - exclude NA yield → **657 reactions**\n",
    "\n",
    "*use ‘limit to’ for document type as ‘exclude’ other document type will delete the rxn that has mix document types, which might also contain article .*"
   ]
  },
  {
   "cell_type": "code",
   "execution_count": 2,
   "id": "8bdce059",
   "metadata": {},
   "outputs": [],
   "source": [
    "def count_num_reaction(data):\n",
    "    # Count how many reactions there are\n",
    "    rxnCount_data = data['Reaction ID'].nunique()\n",
    "    print('Number of Reactions:', rxnCount_data)\n",
    "    print('Number of Rows:', data.shape[0])"
   ]
  },
  {
   "cell_type": "markdown",
   "id": "6202b702",
   "metadata": {},
   "source": [
    "# <span style=\"color:blue\"> Import data </span>\n",
    "\n",
    "- Double check number of reactions\n",
    "- Concatenate 2 datasets."
   ]
  },
  {
   "cell_type": "code",
   "execution_count": 3,
   "id": "84e81099",
   "metadata": {},
   "outputs": [],
   "source": [
    "# Change working directory\n",
    "os.chdir('/Users/suongsuong/Documents/GitHub/Reactivity-based-metric-of-complexity')"
   ]
  },
  {
   "cell_type": "code",
   "execution_count": 4,
   "id": "8b3a57a9",
   "metadata": {},
   "outputs": [
    {
     "name": "stdout",
     "output_type": "stream",
     "text": [
      "Number of Reactions: 483\n",
      "Number of Rows: 2183\n"
     ]
    }
   ],
   "source": [
    "cyclopentanone = pd.read_excel('Reduction of ketone/Reaxys_Raw data/hydride_reduction_of_cyclopentanone.xlsx')\n",
    "count_num_reaction(cyclopentanone)"
   ]
  },
  {
   "cell_type": "code",
   "execution_count": 5,
   "id": "fdf565d8",
   "metadata": {
    "scrolled": true
   },
   "outputs": [
    {
     "name": "stdout",
     "output_type": "stream",
     "text": [
      "Number of Reactions: 657\n",
      "Number of Rows: 3755\n"
     ]
    }
   ],
   "source": [
    "cyclohextanone = pd.read_excel('Reduction of ketone/Reaxys_Raw data/hydride_reduction_of_cyclohexanone.xlsx')\n",
    "count_num_reaction(cyclohextanone)"
   ]
  },
  {
   "cell_type": "code",
   "execution_count": 6,
   "id": "e0d3231b",
   "metadata": {},
   "outputs": [
    {
     "name": "stdout",
     "output_type": "stream",
     "text": [
      "Number of Reactions: 1055\n",
      "Number of Rows: 5938\n"
     ]
    }
   ],
   "source": [
    "# Concatenate \n",
    "cyclo_concat = pd.concat([cyclopentanone, cyclohextanone], axis=0)\n",
    "\n",
    "# Only takes these information:\n",
    "columns_to_keep = [ \n",
    "    'Reaction', \n",
    "    'Reactant', \n",
    "    'Product', \n",
    "    'Reagent', \n",
    "    'Catalyst', \n",
    "    'Solvent (Reaction Details)',\n",
    "    \n",
    "    'Time (Reaction Details) [h]',\n",
    "    'Temperature (Reaction Details) [C]',\n",
    "    \n",
    "    'Yield',\n",
    "    \n",
    "    'Reaction ID', \n",
    "    'Links to Reaxys',\n",
    "    'Reaction: Links to Reaxys',\n",
    "    'References'\n",
    "]\n",
    "\n",
    "cyclo_concat = cyclo_concat[columns_to_keep]\n",
    "count_num_reaction(cyclo_concat)"
   ]
  },
  {
   "cell_type": "markdown",
   "id": "847914b7",
   "metadata": {},
   "source": [
    "# <span style=\"color:blue\"> EDA </span>\n",
    "#### view HTML file for EDA result. "
   ]
  },
  {
   "cell_type": "code",
   "execution_count": 7,
   "id": "8bee2e01",
   "metadata": {},
   "outputs": [
    {
     "data": {
      "application/vnd.jupyter.widget-view+json": {
       "model_id": "c0df8bd434454dc38975d0cd25d94545",
       "version_major": 2,
       "version_minor": 0
      },
      "text/plain": [
       "                                             |      | [  0%]   00:00 -> (? left)"
      ]
     },
     "metadata": {},
     "output_type": "display_data"
    },
    {
     "name": "stdout",
     "output_type": "stream",
     "text": [
      "Report Reduction of ketone/General Cleaning/EDA_Rawdata.html was generated! NOTEBOOK/COLAB USERS: the web browser MAY not pop up, regardless, the report IS saved in your notebook/colab files.\n"
     ]
    }
   ],
   "source": [
    "eda = sv.analyze(cyclo_concat)\n",
    "eda.show_html(filepath='Reduction of ketone/General Cleaning/EDA_Rawdata.html')"
   ]
  },
  {
   "cell_type": "markdown",
   "id": "ae8ebf8a",
   "metadata": {},
   "source": [
    "# <span style=\"color:blue\"> Cleaning</span>"
   ]
  },
  {
   "cell_type": "markdown",
   "id": "dc2b88ec",
   "metadata": {},
   "source": [
    "## 1. Drop NA for Reaction, Yield, Solvent, Reagent \n",
    "*Only drop NA for catalysts for the type of reaction needed.*\n",
    "Remove rows that have catalyst in this case"
   ]
  },
  {
   "cell_type": "code",
   "execution_count": 8,
   "id": "c6627b89",
   "metadata": {},
   "outputs": [],
   "source": [
    "# Drop NA for Yield, Solvent, Reagent\n",
    "clean_cyclo_concat = cyclo_concat.dropna(subset=['Reagent','Solvent (Reaction Details)','Yield', 'Reaction'])\n",
    "\n",
    "# Remove rows that have catalyst\n",
    "clean_cyclo_concat = clean_cyclo_concat[clean_cyclo_concat['Catalyst'].isna() == True]\n",
    "\n",
    "# Only get the row that has 'percent'\n",
    "clean_cyclo_concat = clean_cyclo_concat[clean_cyclo_concat['Yield'].str.contains('percent', case = False)]"
   ]
  },
  {
   "cell_type": "markdown",
   "id": "5720825a",
   "metadata": {},
   "source": [
    "#### Note: extract yield (number) in the next step of checking reaction by MW"
   ]
  },
  {
   "cell_type": "markdown",
   "id": "451f9b99",
   "metadata": {},
   "source": [
    "## 2. Only keep row that has \"Article\" for \"References\"\""
   ]
  },
  {
   "cell_type": "code",
   "execution_count": 9,
   "id": "6ad7aaf1",
   "metadata": {},
   "outputs": [
    {
     "name": "stdout",
     "output_type": "stream",
     "text": [
      "Number of Reactions: 992\n",
      "Number of Rows: 2267\n"
     ]
    }
   ],
   "source": [
    "clean_cyclo_concat = clean_cyclo_concat[clean_cyclo_concat['References'].str.contains('Article')]\n",
    "count_num_reaction(clean_cyclo_concat)"
   ]
  },
  {
   "cell_type": "markdown",
   "id": "0268f9dc",
   "metadata": {},
   "source": [
    "## Reaction conditions will be analyzed after"
   ]
  },
  {
   "cell_type": "markdown",
   "id": "a94b6147",
   "metadata": {},
   "source": [
    "### save data"
   ]
  },
  {
   "cell_type": "code",
   "execution_count": 10,
   "id": "42400417",
   "metadata": {},
   "outputs": [],
   "source": [
    "clean_cyclo_concat.to_excel('Reduction of ketone/General Cleaning/Reduction_Cyclo.xlsx', index = False)"
   ]
  }
 ],
 "metadata": {
  "kernelspec": {
   "display_name": "Python 3 (ipykernel)",
   "language": "python",
   "name": "python3"
  },
  "language_info": {
   "codemirror_mode": {
    "name": "ipython",
    "version": 3
   },
   "file_extension": ".py",
   "mimetype": "text/x-python",
   "name": "python",
   "nbconvert_exporter": "python",
   "pygments_lexer": "ipython3",
   "version": "3.9.13"
  }
 },
 "nbformat": 4,
 "nbformat_minor": 5
}
