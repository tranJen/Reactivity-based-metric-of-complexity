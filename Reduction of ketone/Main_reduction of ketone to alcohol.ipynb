{
 "cells": [
  {
   "cell_type": "code",
   "execution_count": 1,
   "id": "e31120cc",
   "metadata": {},
   "outputs": [],
   "source": [
    "import re\n",
    "import os\n",
    "import sweetviz as sv\n",
    "\n",
    "from general_cleaning import *\n",
    "from verify_by_MW import *\n",
    "from verify_by_CObond import *"
   ]
  },
  {
   "cell_type": "markdown",
   "id": "edbece9a",
   "metadata": {},
   "source": [
    "# <span style=\"color:blue\"> Search data on Reaxys </span>\n",
    "\n",
    "- cyclopentanone → cyclopentanol, map C-carbonyl → give 60,455 reactions\n",
    "    - limit to sodium tetrahydroborate, tetrahydrofuran, single-step, article → give 835 reactions\n",
    "    - exclude NA yield → **483 reactions**\n",
    "- cyclohexanone → cyclohexanol, map C-carbonyl → give 61,693 reactions\n",
    "    - limit to sodium tetrahydroborate, tetrahydrofuran, single-step, article → give 1,125 reactions\n",
    "    - exclude NA yield → **657 reactions**\n",
    "\n",
    "*use ‘limit to’ for document type as ‘exclude’ other document type will delete the rxn that has mix document types, which might also contain article .*"
   ]
  },
  {
   "cell_type": "markdown",
   "id": "6202b702",
   "metadata": {},
   "source": [
    "# <span style=\"color:blue\"> Import data </span>\n",
    "\n",
    "- Double check number of reactions\n",
    "- Concatenate 2 datasets."
   ]
  },
  {
   "cell_type": "code",
   "execution_count": 2,
   "id": "84e81099",
   "metadata": {},
   "outputs": [],
   "source": [
    "# Change working directory\n",
    "os.chdir('/Users/suongsuong/Documents/GitHub/Reactivity-based-metric-of-complexity')"
   ]
  },
  {
   "cell_type": "code",
   "execution_count": 3,
   "id": "8b3a57a9",
   "metadata": {},
   "outputs": [
    {
     "name": "stdout",
     "output_type": "stream",
     "text": [
      "Number of Reactions: 483\n",
      "Number of Rows: 2183\n"
     ]
    }
   ],
   "source": [
    "cyclopentanone = pd.read_excel('Reduction of ketone/Reaxys_Raw data/hydride_reduction_of_cyclopentanone.xlsx')\n",
    "count_num_reaction(cyclopentanone)"
   ]
  },
  {
   "cell_type": "code",
   "execution_count": 4,
   "id": "fdf565d8",
   "metadata": {
    "scrolled": true
   },
   "outputs": [
    {
     "name": "stdout",
     "output_type": "stream",
     "text": [
      "Number of Reactions: 657\n",
      "Number of Rows: 3755\n"
     ]
    }
   ],
   "source": [
    "cyclohextanone = pd.read_excel('Reduction of ketone/Reaxys_Raw data/hydride_reduction_of_cyclohexanone.xlsx')\n",
    "count_num_reaction(cyclohextanone)"
   ]
  },
  {
   "cell_type": "code",
   "execution_count": 5,
   "id": "e0d3231b",
   "metadata": {},
   "outputs": [
    {
     "name": "stdout",
     "output_type": "stream",
     "text": [
      "Number of Reactions: 1055\n",
      "Number of Rows: 5938\n"
     ]
    }
   ],
   "source": [
    "# Concatenate \n",
    "cyclo_concat = pd.concat([cyclopentanone, cyclohextanone], axis=0)\n",
    "\n",
    "# Only takes these information:\n",
    "columns_to_keep = [ \n",
    "    'Reaction', \n",
    "    'Reactant', \n",
    "    'Product', \n",
    "    'Reagent', \n",
    "    'Catalyst', \n",
    "    'Solvent (Reaction Details)',\n",
    "    \n",
    "    'Time (Reaction Details) [h]',\n",
    "    'Temperature (Reaction Details) [C]',\n",
    "    \n",
    "    'Yield',\n",
    "    \n",
    "    'Reaction ID', \n",
    "    'Links to Reaxys',\n",
    "    'Reaction: Links to Reaxys',\n",
    "    'References'\n",
    "]\n",
    "\n",
    "cyclo_concat = cyclo_concat[columns_to_keep]\n",
    "count_num_reaction(cyclo_concat)"
   ]
  },
  {
   "cell_type": "markdown",
   "id": "847914b7",
   "metadata": {},
   "source": [
    "# <span style=\"color:blue\"> EDA </span>\n",
    "#### view HTML file for EDA result. "
   ]
  },
  {
   "cell_type": "code",
   "execution_count": 6,
   "id": "8bee2e01",
   "metadata": {
    "scrolled": true
   },
   "outputs": [],
   "source": [
    "# eda = sv.analyze(cyclo_concat)\n",
    "# eda.show_html(filepath='Reduction of ketone/Reaxys_Raw data/EDA_Rawdata.html')"
   ]
  },
  {
   "cell_type": "markdown",
   "id": "ae8ebf8a",
   "metadata": {},
   "source": [
    "#  <span style=\"color:blue\"> Step 1: General Cleaning</span>"
   ]
  },
  {
   "cell_type": "code",
   "execution_count": 10,
   "id": "97338311",
   "metadata": {
    "scrolled": true
   },
   "outputs": [
    {
     "name": "stdout",
     "output_type": "stream",
     "text": [
      "Number of Reactions: 992\n",
      "Number of Rows: 2267\n"
     ]
    }
   ],
   "source": [
    "# clean\n",
    "GeneralClean_cyclo = GeneralCleaning(cyclo_concat)\n",
    "count_num_reaction(GeneralClean_cyclo)\n",
    "\n",
    "# extract yield (number)\n",
    "\n",
    "GeneralClean_cyclo = GeneralClean_cyclo.copy()\n",
    "GeneralClean_cyclo['Yield (number)'] = GeneralClean_cyclo['Yield'].apply(extract_yield)"
   ]
  },
  {
   "cell_type": "markdown",
   "id": "0268f9dc",
   "metadata": {},
   "source": [
    "#### Reaction conditions will be analyzed after"
   ]
  },
  {
   "cell_type": "markdown",
   "id": "d83314cd",
   "metadata": {},
   "source": [
    "#  <span style=\"color:blue\"> Step 2: Verify reaction by MW</span>"
   ]
  },
  {
   "cell_type": "code",
   "execution_count": 11,
   "id": "37f43011",
   "metadata": {},
   "outputs": [
    {
     "name": "stderr",
     "output_type": "stream",
     "text": [
      "[21:05:07] Explicit valence for atom # 0 B, 5, is greater than permitted\n"
     ]
    }
   ],
   "source": [
    "# get reactant and product SMILES from the reaction SMILES\n",
    "getReactandProduct_cyclo_concat = getReactandProduct(GeneralClean_cyclo)\n",
    "\n",
    "# Calculate change in MW after reaction\n",
    "changeMW_cyclo_concat = get_change_MW(getReactandProduct_cyclo_concat)\n"
   ]
  },
  {
   "cell_type": "markdown",
   "id": "2a322909",
   "metadata": {},
   "source": [
    "#### come back to this warning later"
   ]
  },
  {
   "cell_type": "markdown",
   "id": "c86799ad",
   "metadata": {},
   "source": [
    "### For the single reduction (filtered by MW), only take those having 1 reactant and 1 product for the next step."
   ]
  },
  {
   "cell_type": "code",
   "execution_count": 14,
   "id": "b523b61f",
   "metadata": {},
   "outputs": [
    {
     "name": "stdout",
     "output_type": "stream",
     "text": [
      "Number of Reactions: 705\n",
      "Number of Rows: 1776\n"
     ]
    }
   ],
   "source": [
    "# For the single reduction, verified by MW:\n",
    "SingleReduction_MW = verify_SingleReduc_MW(changeMW_cyclo_concat)\n",
    "\n",
    "count_num_reaction(SingleReduction_MW)"
   ]
  },
  {
   "cell_type": "markdown",
   "id": "f19c5836",
   "metadata": {},
   "source": [
    "### For the double reduction (filtered by MW), only take those making stereoisomers product."
   ]
  },
  {
   "cell_type": "code",
   "execution_count": 15,
   "id": "b249342d",
   "metadata": {},
   "outputs": [
    {
     "name": "stdout",
     "output_type": "stream",
     "text": [
      "Number of Reactions: 101\n",
      "Number of Rows: 187\n"
     ]
    }
   ],
   "source": [
    "# For the single reduction, verified by MW:\n",
    "Stereo_SingleReduction_MW = verify_SingleReduc_Stereo_MW(changeMW_cyclo_concat)\n",
    "\n",
    "# Change the format back to 1 reactant -> 1 product (single reduction)\n",
    "Stereo_SingleReduction_MW['Reactant SMILES'] = Stereo_SingleReduction_MW['Reactant SMILES'].apply(lambda x: [x[0]])\n",
    "Stereo_SingleReduction_MW['Product SMILES'] = Stereo_SingleReduction_MW['Product SMILES'].apply(lambda x: [x[0]])\n",
    "\n",
    "\n",
    "count_num_reaction(Stereo_SingleReduction_MW)"
   ]
  },
  {
   "cell_type": "markdown",
   "id": "1842dc3e",
   "metadata": {},
   "source": [
    "#### Note that Reactant SMILES still has stereochemistry while Product SMILES does not have. Later, if the stereochemistry of Product SMILES is needed, it can be extracted back from 'Reaction' column\n"
   ]
  },
  {
   "cell_type": "markdown",
   "id": "8f20aa9b",
   "metadata": {},
   "source": [
    "#### Concatenate both data set of single reduction for now"
   ]
  },
  {
   "cell_type": "code",
   "execution_count": 16,
   "id": "b34b344c",
   "metadata": {},
   "outputs": [
    {
     "name": "stdout",
     "output_type": "stream",
     "text": [
      "Number of Reactions: 806\n",
      "Number of Rows: 1963\n"
     ]
    }
   ],
   "source": [
    "SingleReduction_MW_concat = pd.concat([SingleReduction_MW, Stereo_SingleReduction_MW], axis = 0)\n",
    "count_num_reaction(SingleReduction_MW_concat)"
   ]
  },
  {
   "cell_type": "markdown",
   "id": "03bb5c7d",
   "metadata": {},
   "source": [
    "#  <span style=\"color:blue\"> Step 3: Verify reaction by change in C-O bonds</span>"
   ]
  },
  {
   "cell_type": "code",
   "execution_count": 17,
   "id": "cc4b5b69",
   "metadata": {},
   "outputs": [
    {
     "name": "stdout",
     "output_type": "stream",
     "text": [
      "Number of Reactions: 794\n",
      "Number of Rows: 1946\n"
     ]
    }
   ],
   "source": [
    "SingleReduction_CObond = verify_SingleReduc_CObond(SingleReduction_MW_concat)\n",
    "count_num_reaction(SingleReduction_CObond)"
   ]
  },
  {
   "cell_type": "markdown",
   "id": "41ba2b51",
   "metadata": {},
   "source": [
    "###  <span style=\"color:red\"> After 3 steps, the data set now has 1946 rows consisting of 794 reactions </span>"
   ]
  },
  {
   "cell_type": "code",
   "execution_count": null,
   "id": "6122d774",
   "metadata": {},
   "outputs": [],
   "source": [
    "### use the following code to view (number) reaction scheme\n",
    "# view_reactionScheme(SingleReduction_CObond, (number here) )"
   ]
  }
 ],
 "metadata": {
  "kernelspec": {
   "display_name": "Python 3 (ipykernel)",
   "language": "python",
   "name": "python3"
  },
  "language_info": {
   "codemirror_mode": {
    "name": "ipython",
    "version": 3
   },
   "file_extension": ".py",
   "mimetype": "text/x-python",
   "name": "python",
   "nbconvert_exporter": "python",
   "pygments_lexer": "ipython3",
   "version": "3.9.13"
  }
 },
 "nbformat": 4,
 "nbformat_minor": 5
}
