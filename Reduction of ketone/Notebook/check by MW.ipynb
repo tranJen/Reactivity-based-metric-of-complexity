{
 "cells": [
  {
   "cell_type": "code",
   "execution_count": 1,
   "id": "fb88ce21",
   "metadata": {},
   "outputs": [],
   "source": [
    "import pandas as pd\n",
    "import re\n",
    "import os\n",
    "from rdkit import Chem\n",
    "from rdkit.Chem import Draw\n",
    "from rdkit.Chem import AllChem\n",
    "from rdkit.Chem import rdChemReactions\n",
    "from rdkit.Chem import Descriptors"
   ]
  },
  {
   "cell_type": "code",
   "execution_count": 2,
   "id": "a129e2e2",
   "metadata": {},
   "outputs": [],
   "source": [
    "def getReactandProduct(data):\n",
    "    '''take a dataframe have reaction SMILES as column named 'Reaction' \n",
    "    extract reactants and products into a lists'''\n",
    "    \n",
    "    data = data.copy() #to avoid SettingWithCopyWarning\n",
    "    \n",
    "    # Split reactions into reactants and product \n",
    "    data[['Reactant SMILES', 'Product SMILES']] = data['Reaction'].str.split('>>', expand=True)\n",
    "\n",
    "    # Split reactants and products into list\n",
    "    data['Reactant SMILES'] = data['Reactant SMILES'].astype(str)\n",
    "    data['Product SMILES'] = data['Product SMILES'].astype(str)\n",
    "    data['Reactant SMILES'] = data['Reactant SMILES'].apply(lambda x: x.split('.'))\n",
    "    data['Product SMILES'] = data['Product SMILES'].apply(lambda x: x.split('.'))\n",
    "    return data\n",
    "\n",
    "def calculate_MW(reactants_list,products_list):\n",
    "    '''calculate change in MW after the reaction'''\n",
    "    reactants_MW = 0\n",
    "    products_MW = 0\n",
    "    # Calculate mass of reactants\n",
    "    for reactant in reactants_list:\n",
    "        reactant_molecule = Chem.MolFromSmiles(reactant)\n",
    "        if reactant_molecule is not None:\n",
    "            reactants_MW += Descriptors.MolWt(reactant_molecule)\n",
    "    # Calculate mass of products       \n",
    "    for product in products_list:\n",
    "        product_molecule = Chem.MolFromSmiles(product)\n",
    "        if product_molecule is not None:\n",
    "            products_MW += Descriptors.MolWt(product_molecule)\n",
    "    #Calculate change\n",
    "    change_MW = products_MW - reactants_MW\n",
    "    return change_MW\n",
    "\n",
    "def view_reactionScheme(data, NumReaction_to_view):\n",
    "    ''' randomly pick and show reaction scheme'''\n",
    "    # Get 1 sample for each reaction ID, Remove duplicated ID\n",
    "    Reaction_data = data.drop_duplicates(subset=['Reaction ID'], keep='first')\n",
    "    Reaction_data = Reaction_data.reset_index(drop = True)\n",
    "    \n",
    "    if NumReaction_to_view > Reaction_data.shape[0]:\n",
    "        raise ValueError('Number of reactions to view is more than the total number of reactions in the dataset')\n",
    "    else:\n",
    "        # Draw\n",
    "        for idx, row in Reaction_data.sample(n=NumReaction_to_view).iterrows():\n",
    "            reaction_smarts = row['Reaction']\n",
    "            rxn = rdChemReactions.ReactionFromSmarts(reaction_smarts, useSmiles=True)\n",
    "            if rxn:\n",
    "                print('Reaction ID:', Reaction_data.iloc[idx]['Reaction ID'] )\n",
    "                Draw.ReactionToImage(rxn).show() # image pop up\n",
    "                print(f'Link: {row[\"Links to Reaxys\"]}\\n')\n",
    "\n",
    "def extract_yield(string):\n",
    "    ''' extract yield number from a string then add up all yield numbers'''\n",
    "    # Extract yield\n",
    "    numbers = re.findall(r'\\d+\\.\\d+|\\d+', string)\n",
    "    # If there are 2 numbers, sum the yield (!!!: only for stereoisomers)\n",
    "    if len(numbers) == 2: \n",
    "        return sum(float(num) for num in numbers)\n",
    "    elif len(numbers) == 1:  # If there is only 1 number, return the number\n",
    "        return float(numbers[0])\n",
    "    else:\n",
    "        return None\n",
    "\n",
    "def count_num_reaction(data):\n",
    "    # Count how many reactions there are\n",
    "    rxnCount_data = data['Reaction ID'].nunique()\n",
    "    print('Number of Reactions:', rxnCount_data)\n",
    "    print('Number of Rows:', data.shape[0])\n",
    "    "
   ]
  },
  {
   "cell_type": "markdown",
   "id": "6202b702",
   "metadata": {},
   "source": [
    "# <span style=\"color:blue\"> Import data after general cleaning </span>"
   ]
  },
  {
   "cell_type": "code",
   "execution_count": 3,
   "id": "5bd3c41e",
   "metadata": {},
   "outputs": [],
   "source": [
    "# Change working directory\n",
    "os.chdir('/Users/suongsuong/Documents/GitHub/Reactivity-based-metric-of-complexity')"
   ]
  },
  {
   "cell_type": "code",
   "execution_count": 4,
   "id": "8b3a57a9",
   "metadata": {},
   "outputs": [
    {
     "name": "stdout",
     "output_type": "stream",
     "text": [
      "Number of Reactions: 590\n",
      "Number of Rows: 1308\n"
     ]
    }
   ],
   "source": [
    "Reduction_cyclo = pd.read_excel('Reduction of ketone/Notebook/Reduction_Cyclo.xlsx')\n",
    "count_num_reaction(Reduction_cyclo)"
   ]
  },
  {
   "cell_type": "markdown",
   "id": "a0fb374a",
   "metadata": {},
   "source": [
    "# <span style=\"color:blue\"> Calculate change in MW</span>"
   ]
  },
  {
   "cell_type": "code",
   "execution_count": 5,
   "id": "8d2a095a",
   "metadata": {
    "scrolled": false
   },
   "outputs": [],
   "source": [
    "# Process the reaction SMILES\n",
    "getReactandProduct_cyclo_concat = getReactandProduct(Reduction_cyclo)"
   ]
  },
  {
   "cell_type": "code",
   "execution_count": 6,
   "id": "d84667a1",
   "metadata": {},
   "outputs": [],
   "source": [
    "# Calculate MW change\n",
    "changeMW_cyclo_concat = getReactandProduct_cyclo_concat.dropna(subset=['Reactant SMILES', 'Product SMILES'])\n",
    "changeMW_cyclo_concat['Change_MW'] = changeMW_cyclo_concat.apply(\n",
    "    lambda x: calculate_MW(x['Reactant SMILES'], x['Product SMILES']), axis=1)\n"
   ]
  },
  {
   "cell_type": "markdown",
   "id": "2b2d56af",
   "metadata": {},
   "source": [
    "#### I'm not sure what the error was. Seem like it was able to calculated all the reaction. As there's no NA value of *Change MW* column. "
   ]
  },
  {
   "cell_type": "code",
   "execution_count": 7,
   "id": "7c9664ef",
   "metadata": {},
   "outputs": [
    {
     "data": {
      "text/plain": [
       "0"
      ]
     },
     "execution_count": 7,
     "metadata": {},
     "output_type": "execute_result"
    }
   ],
   "source": [
    "# no NA value after calculation\n",
    "changeMW_cyclo_concat[changeMW_cyclo_concat['Change_MW'].isna() == True].shape[0]"
   ]
  },
  {
   "cell_type": "markdown",
   "id": "12141fc3",
   "metadata": {},
   "source": [
    "#### I rounded the change to 3 decimal places because it's vary after 3 decimal places. For example, below is values' count if I don't round:"
   ]
  },
  {
   "cell_type": "code",
   "execution_count": 8,
   "id": "aae1e9c4",
   "metadata": {},
   "outputs": [
    {
     "data": {
      "text/plain": [
       "2.016    594\n",
       "2.016    239\n",
       "2.016    157\n",
       "4.032     77\n",
       "4.032     51\n",
       "Name: Change_MW, dtype: int64"
      ]
     },
     "execution_count": 8,
     "metadata": {},
     "output_type": "execute_result"
    }
   ],
   "source": [
    "changeMW_cyclo_concat['Change_MW'].value_counts().head(5)"
   ]
  },
  {
   "cell_type": "code",
   "execution_count": 9,
   "id": "a0d6be80",
   "metadata": {},
   "outputs": [
    {
     "data": {
      "text/plain": [
       " 2.016     1062\n",
       " 4.032      197\n",
       "-40.021      11\n",
       "-15.999       6\n",
       "-13.983       4\n",
       "Name: Change_MW, dtype: int64"
      ]
     },
     "execution_count": 9,
     "metadata": {},
     "output_type": "execute_result"
    }
   ],
   "source": [
    "# Rounded to 3 decimal places\n",
    "changeMW_cyclo_concat['Change_MW'] = round(changeMW_cyclo_concat['Change_MW'],3)\n",
    "\n",
    "changeMW_cyclo_concat['Change_MW'].value_counts().head(5)"
   ]
  },
  {
   "cell_type": "markdown",
   "id": "7dec6c9b",
   "metadata": {},
   "source": [
    "# <span style=\"color:blue\"> Inspect double and single reduction by MW </span>"
   ]
  },
  {
   "cell_type": "markdown",
   "id": "8d12b410",
   "metadata": {},
   "source": [
    "#### Single reduction have change in MW of 2.016. Double reduction have change in MW of 4.032 \n",
    "\n",
    "## 1. Single reduction by MW"
   ]
  },
  {
   "cell_type": "code",
   "execution_count": 10,
   "id": "14037ba5",
   "metadata": {},
   "outputs": [
    {
     "name": "stdout",
     "output_type": "stream",
     "text": [
      "Number of Reactions: 432\n",
      "Number of Rows: 1062\n"
     ]
    }
   ],
   "source": [
    "MWSingleReduction_cyclo_concat = changeMW_cyclo_concat[changeMW_cyclo_concat['Change_MW'] == 2.016]\n",
    "count_num_reaction(MWSingleReduction_cyclo_concat)"
   ]
  },
  {
   "cell_type": "markdown",
   "id": "4b48a119",
   "metadata": {},
   "source": [
    "### a. single reduction contains 1 reactant and 1 product"
   ]
  },
  {
   "cell_type": "code",
   "execution_count": 11,
   "id": "9d9a53ce",
   "metadata": {},
   "outputs": [
    {
     "name": "stdout",
     "output_type": "stream",
     "text": [
      "Number of Reactions: 431\n",
      "Number of Rows: 1061\n"
     ]
    }
   ],
   "source": [
    "# Filter either 1 reactant or 1 product \n",
    "OneReactAndProduct_Single = MWSingleReduction_cyclo_concat[(MWSingleReduction_cyclo_concat['Reactant SMILES'].apply(len) == 1) &\n",
    "                                                             (MWSingleReduction_cyclo_concat['Product SMILES'].apply(len) == 1)]\n",
    "\n",
    "count_num_reaction(OneReactAndProduct_Single)"
   ]
  },
  {
   "cell_type": "markdown",
   "id": "2bdf7150",
   "metadata": {},
   "source": [
    "use the following code for viewing reaction scheme if needed"
   ]
  },
  {
   "cell_type": "code",
   "execution_count": 12,
   "id": "2b93db5d",
   "metadata": {},
   "outputs": [],
   "source": [
    "# #view 3 randomn reaction\n",
    "\n",
    "# view_reactionScheme(OneReactAndProduct_Single,3)"
   ]
  },
  {
   "cell_type": "markdown",
   "id": "96ef9d9c",
   "metadata": {},
   "source": [
    "### b. single reduction contains multiple reactants or multiple products\n"
   ]
  },
  {
   "cell_type": "code",
   "execution_count": 13,
   "id": "5283abce",
   "metadata": {},
   "outputs": [
    {
     "name": "stdout",
     "output_type": "stream",
     "text": [
      "Number of Reactions: 1\n",
      "Number of Rows: 1\n"
     ]
    }
   ],
   "source": [
    "# Filter rows that either have >1 reactants or >1 products\n",
    "Multi_ReactOrProduct_Single  = MWSingleReduction_cyclo_concat[(MWSingleReduction_cyclo_concat['Reactant SMILES'].apply(len) > 1) | (MWSingleReduction_cyclo_concat['Product SMILES'].apply(len) > 1)]\n",
    "\n",
    "# Count how many reactions there are\n",
    "count_num_reaction(Multi_ReactOrProduct_Single)\n"
   ]
  },
  {
   "cell_type": "markdown",
   "id": "cb52876c",
   "metadata": {},
   "source": [
    "use the following code for viewing reaction scheme if needed"
   ]
  },
  {
   "cell_type": "code",
   "execution_count": 14,
   "id": "55257e59",
   "metadata": {},
   "outputs": [],
   "source": [
    "# #view all reaction\n",
    "\n",
    "#view_reactionScheme(Multi_ReactOrProduct_Single,3)"
   ]
  },
  {
   "cell_type": "markdown",
   "id": "b8f9684c",
   "metadata": {},
   "source": [
    "\n",
    "#### Remove rows of single reduction having >1 reactant and >1 product"
   ]
  },
  {
   "cell_type": "markdown",
   "id": "effd503d",
   "metadata": {},
   "source": [
    "### <span style=\"color:red\"> For the single reduction (filtered by MW), only take those having 1 reactant and 1 product for the next step. </span>"
   ]
  },
  {
   "cell_type": "code",
   "execution_count": 15,
   "id": "bd22c832",
   "metadata": {},
   "outputs": [
    {
     "name": "stdout",
     "output_type": "stream",
     "text": [
      "Number of Reactions: 431\n",
      "Number of Rows: 1061\n"
     ]
    }
   ],
   "source": [
    "# Extract yield number\n",
    "SingleReduction_byMW = OneReactAndProduct_Single.copy()\n",
    "SingleReduction_byMW['Yield (number)'] = SingleReduction_byMW['Yield'].apply(extract_yield)\n",
    "count_num_reaction(SingleReduction_byMW)"
   ]
  },
  {
   "cell_type": "code",
   "execution_count": 16,
   "id": "738e50d5",
   "metadata": {},
   "outputs": [],
   "source": [
    "# Store data\n",
    "SingleReduction_byMW.to_excel('Reduction of ketone/Notebook/SingleReduction_byMW.xlsx', index=False)"
   ]
  },
  {
   "cell_type": "markdown",
   "id": "8e7721ad",
   "metadata": {},
   "source": [
    "## 2. Double reduction by MW"
   ]
  },
  {
   "cell_type": "code",
   "execution_count": 17,
   "id": "26907267",
   "metadata": {},
   "outputs": [
    {
     "name": "stdout",
     "output_type": "stream",
     "text": [
      "Number of Reactions: 123\n",
      "Number of Rows: 197\n"
     ]
    }
   ],
   "source": [
    "# Filter those has double changeMW\n",
    "MWDoubleReduction_cyclo_concat = changeMW_cyclo_concat[changeMW_cyclo_concat['Change_MW'] == 4.032]\n",
    "\n",
    "count_num_reaction(MWDoubleReduction_cyclo_concat)"
   ]
  },
  {
   "cell_type": "markdown",
   "id": "46a50cd4",
   "metadata": {},
   "source": [
    "### a. double reduction contains 1 reactant and 1 product"
   ]
  },
  {
   "cell_type": "code",
   "execution_count": 18,
   "id": "5aa4b307",
   "metadata": {},
   "outputs": [
    {
     "name": "stdout",
     "output_type": "stream",
     "text": [
      "Number of Reactions: 48\n",
      "Number of Rows: 65\n"
     ]
    }
   ],
   "source": [
    "# 1 reactant and 1 product \n",
    "OneReactAndProduct_Double = MWDoubleReduction_cyclo_concat[(MWDoubleReduction_cyclo_concat['Reactant SMILES'].apply(len) == 1)]\n",
    "\n",
    "count_num_reaction(OneReactAndProduct_Double)"
   ]
  },
  {
   "cell_type": "markdown",
   "id": "5eb1d2f2",
   "metadata": {},
   "source": [
    "#### No need to check as we only take single reduction of ketone. Reactions which have change in MW of 4 and have scheme of 1 reactant to 1 product are obviously not single reduction of ketone. => Remove\n",
    "\n",
    "Some reactions are double reduction of ketones (mostly), or $\\alpha,\\beta$-unsaturated ketone reducion, or ketone and imine reduction."
   ]
  },
  {
   "cell_type": "code",
   "execution_count": 19,
   "id": "02856e92",
   "metadata": {},
   "outputs": [],
   "source": [
    "# #view 3 reactions\n",
    "\n",
    "# view_reactionScheme(OneReactAndProduct_Double,3)"
   ]
  },
  {
   "cell_type": "markdown",
   "id": "e0b2cbc6",
   "metadata": {},
   "source": [
    "### b. double reduction contains multiple reactants or multiple products"
   ]
  },
  {
   "cell_type": "code",
   "execution_count": 20,
   "id": "f1032fd7",
   "metadata": {},
   "outputs": [
    {
     "name": "stdout",
     "output_type": "stream",
     "text": [
      "Number of Reactions: 75\n",
      "Number of Rows: 132\n"
     ]
    }
   ],
   "source": [
    "\n",
    "Multi_ReactOrProduct_Double  = MWDoubleReduction_cyclo_concat[(MWDoubleReduction_cyclo_concat['Reactant SMILES'].apply(len) > 1) | (MWDoubleReduction_cyclo_concat['Product SMILES'].apply(len) > 1)]\n",
    "\n",
    "count_num_reaction(Multi_ReactOrProduct_Double)"
   ]
  },
  {
   "cell_type": "code",
   "execution_count": 21,
   "id": "de8626d0",
   "metadata": {},
   "outputs": [
    {
     "name": "stdout",
     "output_type": "stream",
     "text": [
      "Stats of Reactants: 2    132\n",
      "Name: Reactant SMILES, dtype: int64\n",
      "Stats of Products: 2    132\n",
      "Name: Product SMILES, dtype: int64\n"
     ]
    }
   ],
   "source": [
    "# check number of reactants and products\n",
    "print('Stats of Reactants:', Multi_ReactOrProduct_Double['Reactant SMILES'].apply(len).value_counts())\n",
    "print('Stats of Products:', Multi_ReactOrProduct_Double['Product SMILES'].apply(len).value_counts())"
   ]
  },
  {
   "cell_type": "code",
   "execution_count": 22,
   "id": "2a1b50f2",
   "metadata": {},
   "outputs": [
    {
     "data": {
      "text/plain": [
       "True    132\n",
       "Name: Reactant SMILES, dtype: int64"
      ]
     },
     "execution_count": 22,
     "metadata": {},
     "output_type": "execute_result"
    }
   ],
   "source": [
    "# check if Reactants SMILES are the same \n",
    "Multi_ReactOrProduct_Double['Reactant SMILES'].apply(lambda x: x[0]== x[1]).value_counts()\n"
   ]
  },
  {
   "cell_type": "markdown",
   "id": "c238d5ff",
   "metadata": {},
   "source": [
    "#### All the rows contains multiple reactants and products with change in MW of 4.032 are the one that have 2 reactants SMILES and 2 products SMILES. \n",
    "\n",
    "#### 2 reactants SMILES of all these rows are the same. This means all 1048 rows (127 reactions) are actually 1 reactants -> 2 isomers (constitutional or stereoisomers)"
   ]
  },
  {
   "cell_type": "code",
   "execution_count": 23,
   "id": "9bb4cdd8",
   "metadata": {},
   "outputs": [],
   "source": [
    "# #view 3 reactions\n",
    "\n",
    "# view_reactionScheme(Multi_ReactOrProduct_Double,3)"
   ]
  },
  {
   "cell_type": "markdown",
   "id": "65091da7",
   "metadata": {},
   "source": [
    "#### Only keep the reaction making stereoisomers"
   ]
  },
  {
   "cell_type": "code",
   "execution_count": 24,
   "id": "baf4c97d",
   "metadata": {},
   "outputs": [],
   "source": [
    "# Remove stereochemistry for the product \n",
    "Stereo_Multi_ReactOrProduct_Double = Multi_ReactOrProduct_Double.copy() #to avoid SettingWithCopyWarning\n",
    "Stereo_Multi_ReactOrProduct_Double['Product SMILES'] = Stereo_Multi_ReactOrProduct_Double['Product SMILES'].apply(lambda x: [i.replace('@', '') for i in x])\n",
    "\n",
    "# Keep the row if the 2 product SMILES (after removing stereochemistry) are the same.\n",
    "Stereo_Multi_ReactOrProduct_Double = Stereo_Multi_ReactOrProduct_Double[Stereo_Multi_ReactOrProduct_Double['Product SMILES'].apply(lambda x: x[0]== x[1])]"
   ]
  },
  {
   "cell_type": "markdown",
   "id": "cc66e8dd",
   "metadata": {},
   "source": [
    "####  Change the format back to 1 reactant -> 1 product (single reduction)\n",
    "\n",
    "\n",
    "<div style=\"color:red\">\n",
    "    Note that Reactant SMILES still has stereochemistry while Product SMILES does not have. \n",
    "    Later, if the stereochemistry of Product SMILES is needed, it can be extracted back from 'Reaction' column\n",
    "</div>"
   ]
  },
  {
   "cell_type": "code",
   "execution_count": 25,
   "id": "a0c5a482",
   "metadata": {},
   "outputs": [
    {
     "name": "stdout",
     "output_type": "stream",
     "text": [
      "Number of Reactions: 71\n",
      "Number of Rows: 126\n"
     ]
    }
   ],
   "source": [
    "# Change the format back to 1 reactant -> 1 product (single reduction)\n",
    "Stereo_Multi_ReactOrProduct_Double['Reactant SMILES'] = Stereo_Multi_ReactOrProduct_Double['Reactant SMILES'].apply(lambda x: [x[0]])\n",
    "Stereo_Multi_ReactOrProduct_Double['Product SMILES'] = Stereo_Multi_ReactOrProduct_Double['Product SMILES'].apply(lambda x: [x[0]])\n",
    "count_num_reaction(Stereo_Multi_ReactOrProduct_Double)"
   ]
  },
  {
   "cell_type": "markdown",
   "id": "8f26df89",
   "metadata": {},
   "source": [
    "#### Sum 2 yield numbers reported"
   ]
  },
  {
   "cell_type": "code",
   "execution_count": 26,
   "id": "b93c8075",
   "metadata": {},
   "outputs": [
    {
     "name": "stdout",
     "output_type": "stream",
     "text": [
      "Number of Reactions: 60\n",
      "Number of Rows: 105\n"
     ]
    }
   ],
   "source": [
    "# Only keep rows having 2 yield-numbers reported by counting 'percent'\n",
    "\n",
    "Stereo_Multi_ReactOrProduct_Double = Stereo_Multi_ReactOrProduct_Double[Stereo_Multi_ReactOrProduct_Double['Yield'].str.count('percent') == 2]\n",
    "\n",
    "# Sum yield of stereoisomers\n",
    "Stereo_SingleReduction_byMW = Stereo_Multi_ReactOrProduct_Double.copy()\n",
    "Stereo_SingleReduction_byMW['Yield (number)'] = Stereo_SingleReduction_byMW['Yield'].apply(extract_yield)\n",
    "count_num_reaction(Stereo_SingleReduction_byMW)"
   ]
  },
  {
   "cell_type": "code",
   "execution_count": 27,
   "id": "a64a52e3",
   "metadata": {},
   "outputs": [],
   "source": [
    "# Save data\n",
    "Stereo_SingleReduction_byMW.to_excel('Reduction of ketone/Notebook/Stereo_SingleReduction_byMW.xlsx', index=False)"
   ]
  },
  {
   "cell_type": "markdown",
   "id": "a2e9405b",
   "metadata": {},
   "source": [
    "<div style=\"color:red\">\n",
    "    \n",
    "### For the single reduction (filtered by MW), only take those having 1 reactant and 1 product for the next step.\n",
    "\n",
    "### For the double reduction (filtered by MW), only take those making stereoisomers product. Stored dataset separately. \n",
    "\n",
    "</div>"
   ]
  }
 ],
 "metadata": {
  "kernelspec": {
   "display_name": "Python 3.9.13 ('base')",
   "language": "python",
   "name": "python3"
  },
  "language_info": {
   "codemirror_mode": {
    "name": "ipython",
    "version": 3
   },
   "file_extension": ".py",
   "mimetype": "text/x-python",
   "name": "python",
   "nbconvert_exporter": "python",
   "pygments_lexer": "ipython3",
   "version": "3.9.13"
  },
  "vscode": {
   "interpreter": {
    "hash": "3c3eef991fda4167de76cb619227e3e082741d590237b5216c9ef2b93b88359b"
   }
  }
 },
 "nbformat": 4,
 "nbformat_minor": 5
}
