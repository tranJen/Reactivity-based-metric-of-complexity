{
 "cells": [
  {
   "cell_type": "code",
   "execution_count": 1,
   "id": "e31120cc",
   "metadata": {},
   "outputs": [],
   "source": [
    "import os\n",
    "import pandas as pd\n",
    "import sweetviz as sv"
   ]
  },
  {
   "cell_type": "markdown",
   "id": "edbece9a",
   "metadata": {},
   "source": [
    "# <span style=\"color:blue\"> Search data on Reaxys </span>\n",
    "\n",
    "- cyclopentanone → cyclopentanol, map C-carbonyl → give 35,665 reactions\n",
    "\t- exclude NA yield → 5,747 reactions\n",
    "\t- limit to single-step, article -> 4,885 reactions\n",
    "\t- limit to ‘sodium tetrahydroborate’ -> **2,272 reactions**\n",
    "- cyclohexanone → cyclohexanol, map C-carbonyl → give 61,693 reactions\n",
    "\t- exclude NA yield → 9,765 reactions\n",
    "\t- limit to single-step, article -> 8,502 reactions\n",
    "\t- limit to ‘sodium tetrahydroborate’ -> **3,487 reactions**\n",
    "\n",
    "*use ‘limit to’ for document type as ‘exclude’ other document type will delete the rxn that has mix document types, which might also contain article .*"
   ]
  },
  {
   "cell_type": "code",
   "execution_count": 2,
   "id": "8bdce059",
   "metadata": {},
   "outputs": [],
   "source": [
    "def count_num_reaction(data):\n",
    "    # Count how many reactions there are\n",
    "    rxnCount_data = data['Reaction ID'].nunique()\n",
    "    print('Number of Reactions:', rxnCount_data)\n",
    "    print('Number of Rows:', data.shape[0])"
   ]
  },
  {
   "cell_type": "markdown",
   "id": "6202b702",
   "metadata": {},
   "source": [
    "# <span style=\"color:blue\"> Import data </span>\n",
    "\n",
    "- Double check number of reactions\n",
    "- Concatenate 2 datasets."
   ]
  },
  {
   "cell_type": "code",
   "execution_count": 3,
   "id": "84e81099",
   "metadata": {},
   "outputs": [],
   "source": [
    "# Change working directory\n",
    "os.chdir('/Users/suongsuong/Documents/GitHub/Reactivity-based-metric-of-complexity/Reduction of ketone/')"
   ]
  },
  {
   "cell_type": "code",
   "execution_count": 13,
   "id": "8b3a57a9",
   "metadata": {},
   "outputs": [
    {
     "name": "stdout",
     "output_type": "stream",
     "text": [
      "Number of Reactions: 5421\n",
      "Number of Rows: 11834\n"
     ]
    }
   ],
   "source": [
    "cyclo_concat = pd.read_excel('Reaxys_Raw data/cyclo5,6.xlsx')\n",
    "count_num_reaction(cyclo_concat)"
   ]
  },
  {
   "cell_type": "code",
   "execution_count": 14,
   "id": "e0d3231b",
   "metadata": {},
   "outputs": [
    {
     "name": "stdout",
     "output_type": "stream",
     "text": [
      "Number of Reactions: 5421\n",
      "Number of Rows: 11834\n"
     ]
    }
   ],
   "source": [
    "# Only takes these information:\n",
    "columns_to_keep = [ \n",
    "    'Reaction', \n",
    "    'Reactant', \n",
    "    'Product', \n",
    "    'Reagent', \n",
    "    'Catalyst', \n",
    "    'Solvent (Reaction Details)',\n",
    "    \n",
    "    'Time (Reaction Details) [h]',\n",
    "    'Temperature (Reaction Details) [C]',\n",
    "    \n",
    "    'Yield',\n",
    "    \n",
    "    'Reaction ID', \n",
    "    'Links to Reaxys',\n",
    "    'Reaction: Links to Reaxys',\n",
    "    'References'\n",
    "]\n",
    "\n",
    "cyclo_concat = cyclo_concat[columns_to_keep]\n",
    "count_num_reaction(cyclo_concat)"
   ]
  },
  {
   "cell_type": "markdown",
   "id": "847914b7",
   "metadata": {},
   "source": [
    "# <span style=\"color:blue\"> EDA </span>\n",
    "#### view HTML file for EDA result. "
   ]
  },
  {
   "cell_type": "code",
   "execution_count": 6,
   "id": "8bee2e01",
   "metadata": {},
   "outputs": [
    {
     "data": {
      "application/vnd.jupyter.widget-view+json": {
       "model_id": "1b5af3323eb0453696c23310cd6aa848",
       "version_major": 2,
       "version_minor": 0
      },
      "text/plain": [
       "                                             |          | [  0%]   00:00 -> (? left)"
      ]
     },
     "metadata": {},
     "output_type": "display_data"
    },
    {
     "name": "stdout",
     "output_type": "stream",
     "text": [
      "Report Notebook/EDA_Rawdata_cyclo5,6.html was generated! NOTEBOOK/COLAB USERS: the web browser MAY not pop up, regardless, the report IS saved in your notebook/colab files.\n"
     ]
    }
   ],
   "source": [
    "eda = sv.analyze(cyclo_concat)\n",
    "eda.show_html(filepath='Notebook/EDA_Rawdata_cyclo5,6.html')"
   ]
  },
  {
   "cell_type": "markdown",
   "id": "ae8ebf8a",
   "metadata": {},
   "source": [
    "# <span style=\"color:blue\"> Cleaning</span>"
   ]
  },
  {
   "cell_type": "markdown",
   "id": "dc2b88ec",
   "metadata": {},
   "source": [
    "## 1. Drop NA for Reagent, Reaction, Yield, Temperature, Time, Solvent \n",
    "## & Remove rows having catalyst\n",
    "*Only drop NA for catalysts for the type of reaction needed.*"
   ]
  },
  {
   "cell_type": "code",
   "execution_count": 15,
   "id": "c6627b89",
   "metadata": {},
   "outputs": [
    {
     "name": "stdout",
     "output_type": "stream",
     "text": [
      "Number of Reactions: 2771\n",
      "Number of Rows: 3919\n"
     ]
    }
   ],
   "source": [
    "# Drop NA\n",
    "cleanNA_cyclo_concat = cyclo_concat.dropna(subset=['Reagent', 'Reaction', 'Yield', 'Temperature (Reaction Details) [C]', 'Time (Reaction Details) [h]', 'Solvent (Reaction Details)'])\n",
    "\n",
    "# Remove rows that have catalyst\n",
    "cleanNA_cyclo_concat = cleanNA_cyclo_concat[cleanNA_cyclo_concat['Catalyst'].isna() == True]\n",
    "\n",
    "count_num_reaction(cleanNA_cyclo_concat)"
   ]
  },
  {
   "cell_type": "markdown",
   "id": "451f9b99",
   "metadata": {},
   "source": [
    "## 2. Only keep row having \"Article\" for \"References\"\""
   ]
  },
  {
   "cell_type": "code",
   "execution_count": 16,
   "id": "6ad7aaf1",
   "metadata": {},
   "outputs": [
    {
     "name": "stdout",
     "output_type": "stream",
     "text": [
      "Number of Reactions: 2710\n",
      "Number of Rows: 3678\n"
     ]
    }
   ],
   "source": [
    "article_cyclo_concat = cleanNA_cyclo_concat[cleanNA_cyclo_concat['References'].str.contains('Article')]\n",
    "count_num_reaction(article_cyclo_concat)"
   ]
  },
  {
   "cell_type": "markdown",
   "id": "29e38e8d",
   "metadata": {},
   "source": [
    "# 3. Remove rows that 'Time' contains \";\" or \"-\"\n",
    "#### which corresponds to more than 1 step reaction."
   ]
  },
  {
   "cell_type": "code",
   "execution_count": 17,
   "id": "8bff2a7c",
   "metadata": {},
   "outputs": [
    {
     "name": "stdout",
     "output_type": "stream",
     "text": [
      "Number of Reactions: 2610\n",
      "Number of Rows: 3513\n"
     ]
    }
   ],
   "source": [
    "# Remove row having ';' or '-'\n",
    "oneStep_cyclo_concat = article_cyclo_concat[ article_cyclo_concat['Time (Reaction Details) [h]'].str.contains(';|-') == False].copy()\n",
    "\n",
    "# Convert time to numeric\n",
    "oneStep_cyclo_concat['Time (Reaction Details) [h]'] = pd.to_numeric(oneStep_cyclo_concat['Time (Reaction Details) [h]'], errors='raise')\n",
    "\n",
    "count_num_reaction(oneStep_cyclo_concat)"
   ]
  },
  {
   "cell_type": "markdown",
   "id": "e2e3dce8",
   "metadata": {},
   "source": [
    "# 4. Remove row that reported yield is not percent yield"
   ]
  },
  {
   "cell_type": "code",
   "execution_count": 18,
   "id": "b74d04be",
   "metadata": {},
   "outputs": [
    {
     "name": "stdout",
     "output_type": "stream",
     "text": [
      "Number of Reactions: 2593\n",
      "Number of Rows: 3468\n"
     ]
    }
   ],
   "source": [
    "# Remove yield reported with '>' (either >99 or >95 - remove)\n",
    "percent_cyclo_concat = oneStep_cyclo_concat[oneStep_cyclo_concat['Yield'].str.contains('>') == False].copy()\n",
    "\n",
    "# Only keep the one reported as 'percent'\n",
    "percent_cyclo_concat = percent_cyclo_concat[percent_cyclo_concat['Yield'].str.contains('percent', case = False)]\n",
    "\n",
    "count_num_reaction(percent_cyclo_concat)"
   ]
  },
  {
   "cell_type": "markdown",
   "id": "eab4b996",
   "metadata": {},
   "source": [
    "# 5. Remove duplicate rows"
   ]
  },
  {
   "cell_type": "code",
   "execution_count": 19,
   "id": "3a19cb04",
   "metadata": {},
   "outputs": [
    {
     "name": "stdout",
     "output_type": "stream",
     "text": [
      "Number of Reactions: 2593\n",
      "Number of Rows: 3259\n"
     ]
    }
   ],
   "source": [
    "percent_cyclo_concat = percent_cyclo_concat.drop_duplicates()\n",
    "\n",
    "count_num_reaction(percent_cyclo_concat)"
   ]
  },
  {
   "cell_type": "markdown",
   "id": "0268f9dc",
   "metadata": {},
   "source": [
    "#### Reaction conditions will be analyzed after"
   ]
  },
  {
   "cell_type": "markdown",
   "id": "a94b6147",
   "metadata": {},
   "source": [
    "### save data"
   ]
  },
  {
   "cell_type": "code",
   "execution_count": 20,
   "id": "42400417",
   "metadata": {},
   "outputs": [],
   "source": [
    "percent_cyclo_concat.to_excel('Notebook/Reduction_Cyclo.xlsx', index = False)"
   ]
  }
 ],
 "metadata": {
  "kernelspec": {
   "display_name": "Python 3.9.13 ('base')",
   "language": "python",
   "name": "python3"
  },
  "language_info": {
   "codemirror_mode": {
    "name": "ipython",
    "version": 3
   },
   "file_extension": ".py",
   "mimetype": "text/x-python",
   "name": "python",
   "nbconvert_exporter": "python",
   "pygments_lexer": "ipython3",
   "version": "3.9.13"
  },
  "vscode": {
   "interpreter": {
    "hash": "3c3eef991fda4167de76cb619227e3e082741d590237b5216c9ef2b93b88359b"
   }
  }
 },
 "nbformat": 4,
 "nbformat_minor": 5
}
