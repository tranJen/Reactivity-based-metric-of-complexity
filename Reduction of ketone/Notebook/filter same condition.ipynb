{
 "cells": [
  {
   "cell_type": "code",
   "execution_count": 1,
   "metadata": {},
   "outputs": [],
   "source": [
    "import pandas as pd\n",
    "import numpy as np\n",
    "import re\n",
    "import matplotlib.pyplot as plt\n",
    "import sweetviz as sv\n",
    "from rdkit.Chem import rdChemReactions\n",
    "from rdkit.Chem import Draw\n",
    "from rdkit import Chem\n",
    "from rdkit.Chem import AllChem"
   ]
  },
  {
   "cell_type": "code",
   "execution_count": 2,
   "metadata": {},
   "outputs": [],
   "source": [
    "from IPython.display import display\n",
    "from PIL import Image\n",
    "import io"
   ]
  },
  {
   "cell_type": "code",
   "execution_count": 3,
   "metadata": {},
   "outputs": [],
   "source": [
    "def count_num_reaction(data):\n",
    "    '''Count how many reactions there are'''\n",
    "    rxnCount_data = data['Reaction ID'].nunique()\n",
    "    print('Number of Reactions:', rxnCount_data)\n",
    "    print('Number of Rows:', data.shape[0])\n",
    "\n",
    "def view_reactionScheme(data, NumReaction_to_view, duplicate):\n",
    "    '''pick and show reaction scheme '''\n",
    "\n",
    "    if duplicate == 'drop duplicate':\n",
    "        Reaction_data = data.drop_duplicates(subset=['Reaction ID'], keep='first')\n",
    "        Reaction_data = Reaction_data.reset_index(drop=True)\n",
    "    elif duplicate == 'keep duplicate': \n",
    "        Reaction_data = data.reset_index(drop=True)\n",
    "    else:\n",
    "        raise ValueError('Invalid input')\n",
    "        \n",
    "    if NumReaction_to_view > Reaction_data.shape[0]:\n",
    "        raise ValueError('Number of reactions to view is more than the total number of reactions in the dataset')\n",
    "    else:\n",
    "        # Draw\n",
    "        random_start = np.random.randint(0, (Reaction_data.shape[0] - NumReaction_to_view + 1) , size=1)[0]\n",
    "        for idx, row in Reaction_data[random_start: random_start + NumReaction_to_view].iterrows():\n",
    "            reaction_smarts = row['Reaction']\n",
    "            rxn = rdChemReactions.ReactionFromSmarts(reaction_smarts, useSmiles=True)\n",
    "            if rxn:\n",
    "                print('Reaction ID:', Reaction_data.iloc[idx]['Reaction ID'])\n",
    "                img = Draw.ReactionToImage(rxn)\n",
    "                \n",
    "                # display image in notebook\n",
    "                with io.BytesIO() as output:\n",
    "                    img.save(output, format=\"PNG\")\n",
    "                    display(Image.open(output))\n",
    "                # Return conditions\n",
    "                print(row[['Largest Reactant MW', 'Reagent', 'Solvent (Reaction Details)', 'Time (Reaction Details) [h]', 'Temperature (Reaction Details) [C]', 'Yield']])\n",
    "                print(f'Link: {row[\"Links to Reaxys\"]}\\n')\n",
    "\n",
    "\n"
   ]
  },
  {
   "cell_type": "code",
   "execution_count": 4,
   "metadata": {},
   "outputs": [],
   "source": [
    "# Change working directory\n",
    "os.chdir('/Users/suongsuong/Documents/GitHub/Reactivity-based-metric-of-complexity/Reduction of ketone/Notebook/')"
   ]
  },
  {
   "cell_type": "markdown",
   "metadata": {},
   "source": [
    "## <span style=\"color:blue\">  Import data after checking by change in C-O bonds </span>"
   ]
  },
  {
   "cell_type": "code",
   "execution_count": 5,
   "metadata": {},
   "outputs": [
    {
     "name": "stdout",
     "output_type": "stream",
     "text": [
      "Number of Reactions: 2210\n",
      "Number of Rows: 3000\n"
     ]
    }
   ],
   "source": [
    "SingleReduc_byCObond = pd.read_excel('SingleReduc_byCObond.xlsx')\n",
    "count_num_reaction(SingleReduc_byCObond)"
   ]
  },
  {
   "cell_type": "markdown",
   "metadata": {},
   "source": [
    "---"
   ]
  },
  {
   "cell_type": "markdown",
   "metadata": {},
   "source": [
    "## <span style=\"color:blue\"> Select sodium tetrahydroborate as Reagent </span>\n",
    "#### Starting with reagent because, from EDA of the data after filtering by CO bond, it's the one leaving the most data if filtering"
   ]
  },
  {
   "cell_type": "code",
   "execution_count": 6,
   "metadata": {},
   "outputs": [
    {
     "name": "stdout",
     "output_type": "stream",
     "text": [
      "Number of Reactions: 1819\n",
      "Number of Rows: 2030\n"
     ]
    }
   ],
   "source": [
    "\n",
    "SingleReduc_byCObond['Reagent'] = SingleReduc_byCObond['Reagent'].astype(str)\n",
    "\n",
    "SingleReduc_NaBH4 = SingleReduc_byCObond[SingleReduc_byCObond['Reagent'].isin({'sodium tetrahydroborate'})]\n",
    "\n",
    "count_num_reaction(SingleReduc_NaBH4)"
   ]
  },
  {
   "cell_type": "code",
   "execution_count": 7,
   "metadata": {},
   "outputs": [
    {
     "data": {
      "application/vnd.jupyter.widget-view+json": {
       "model_id": "0a20f92c71d842d8950ff10a74b651e8",
       "version_major": 2,
       "version_minor": 0
      },
      "text/plain": [
       "                                             |          | [  0%]   00:00 -> (? left)"
      ]
     },
     "metadata": {},
     "output_type": "display_data"
    },
    {
     "name": "stderr",
     "output_type": "stream",
     "text": [
      "/Users/suongsuong/opt/anaconda3/lib/python3.9/site-packages/sweetviz/series_analyzer.py:17: FutureWarning: The default dtype for empty Series will be 'object' instead of 'float64' in a future version. Specify a dtype explicitly to silence this warning.\n",
      "  value_counts_without_nan = pd.Series()\n"
     ]
    },
    {
     "name": "stdout",
     "output_type": "stream",
     "text": [
      "Report Notebook/EDA_NaBH4.html was generated! NOTEBOOK/COLAB USERS: the web browser MAY not pop up, regardless, the report IS saved in your notebook/colab files.\n"
     ]
    }
   ],
   "source": [
    "columns_with_lists = [col for col in SingleReduc_NaBH4.columns if SingleReduc_NaBH4[col].apply(lambda x: isinstance(x, list)).any()]\n",
    "df = SingleReduc_NaBH4.drop(columns=columns_with_lists)\n",
    "eda = sv.analyze(df)\n",
    "eda.show_html(filepath='EDA_NaBH4.html')"
   ]
  },
  {
   "cell_type": "markdown",
   "metadata": {},
   "source": [
    "## <span style=\"color:blue\"> Select methanol as solvent </span>\n",
    "#### Continue with Solvent because for the same reason as for Reagent\n",
    "#### Pick methanol as it has most data"
   ]
  },
  {
   "cell_type": "code",
   "execution_count": 8,
   "metadata": {},
   "outputs": [
    {
     "name": "stdout",
     "output_type": "stream",
     "text": [
      "Number of Reactions: 1043\n",
      "Number of Rows: 1133\n"
     ]
    }
   ],
   "source": [
    "SingleReduc_methanol= SingleReduc_NaBH4[SingleReduc_NaBH4['Solvent (Reaction Details)'] == 'methanol']\n",
    "\n",
    "count_num_reaction(SingleReduc_methanol)"
   ]
  },
  {
   "cell_type": "code",
   "execution_count": 9,
   "metadata": {},
   "outputs": [
    {
     "data": {
      "application/vnd.jupyter.widget-view+json": {
       "model_id": "c54e08fef7494be0b91897409fd9cba2",
       "version_major": 2,
       "version_minor": 0
      },
      "text/plain": [
       "                                             |          | [  0%]   00:00 -> (? left)"
      ]
     },
     "metadata": {},
     "output_type": "display_data"
    },
    {
     "name": "stderr",
     "output_type": "stream",
     "text": [
      "/Users/suongsuong/opt/anaconda3/lib/python3.9/site-packages/sweetviz/series_analyzer.py:17: FutureWarning: The default dtype for empty Series will be 'object' instead of 'float64' in a future version. Specify a dtype explicitly to silence this warning.\n",
      "  value_counts_without_nan = pd.Series()\n"
     ]
    },
    {
     "name": "stdout",
     "output_type": "stream",
     "text": [
      "Report Notebook/EDA_methanol.html was generated! NOTEBOOK/COLAB USERS: the web browser MAY not pop up, regardless, the report IS saved in your notebook/colab files.\n"
     ]
    }
   ],
   "source": [
    "columns_with_lists = [col for col in SingleReduc_methanol.columns if SingleReduc_methanol[col].apply(lambda x: isinstance(x, list)).any()]\n",
    "df = SingleReduc_methanol.drop(columns=columns_with_lists)\n",
    "eda = sv.analyze(df)\n",
    "eda.show_html(filepath='EDA_methanol.html')"
   ]
  },
  {
   "cell_type": "markdown",
   "metadata": {},
   "source": [
    "## <span style=\"color:blue\"> Select 0 degC for Temperature </span>\n",
    "## <span style=\"color:blue\"> Select Time of reaction less than 24h </span>"
   ]
  },
  {
   "cell_type": "markdown",
   "metadata": {},
   "source": []
  },
  {
   "cell_type": "code",
   "execution_count": 10,
   "metadata": {},
   "outputs": [
    {
     "name": "stdout",
     "output_type": "stream",
     "text": [
      "Temp.:\n",
      "Number of Reactions: 492\n",
      "Number of Rows: 534\n",
      "None\n",
      "Time:\n",
      "Number of Reactions: 491\n",
      "Number of Rows: 533\n",
      "None\n"
     ]
    }
   ],
   "source": [
    "# Temp\n",
    "SingleReduc_temp = SingleReduc_methanol[SingleReduc_methanol['Temperature (Reaction Details) [C]'] == '0' ] \n",
    "print('Temp.:')\n",
    "print(count_num_reaction(SingleReduc_temp))\n",
    "\n",
    "# Time\n",
    "SingleReduc_time = SingleReduc_temp\n",
    "SingleReduc_time = SingleReduc_temp[SingleReduc_temp['Time (Reaction Details) [h]'] < 24 ] \n",
    "print('Time:')\n",
    "print(count_num_reaction(SingleReduc_time))\n",
    "\n"
   ]
  },
  {
   "cell_type": "markdown",
   "metadata": {},
   "source": [
    "#### Note that after these filteration. There's no column left with Reagent = 'methanol; sodium tetrahydroborate'"
   ]
  },
  {
   "cell_type": "markdown",
   "metadata": {},
   "source": [
    "## <span style=\"color:blue\"> Inspect duplicated reactions </span>"
   ]
  },
  {
   "cell_type": "code",
   "execution_count": 11,
   "metadata": {},
   "outputs": [
    {
     "name": "stdout",
     "output_type": "stream",
     "text": [
      "Number of Reactions: 491\n",
      "Number of Rows: 500\n",
      "None\n"
     ]
    },
    {
     "data": {
      "text/plain": [
       "5125708     2\n",
       "10088666    2\n",
       "2839467     2\n",
       "50834932    2\n",
       "4899473     2\n",
       "40358815    2\n",
       "5103599     2\n",
       "1159290     2\n",
       "32575260    2\n",
       "2505975     1\n",
       "Name: Reaction ID, dtype: int64"
      ]
     },
     "execution_count": 11,
     "metadata": {},
     "output_type": "execute_result"
    }
   ],
   "source": [
    "# Drop duplicated rows\n",
    "SingleReduc_duplicate = SingleReduc_time.drop_duplicates()\n",
    "\n",
    "print(count_num_reaction(SingleReduc_duplicate))\n",
    "\n",
    "SingleReduc_duplicate['Reaction ID'].value_counts().head(10)"
   ]
  },
  {
   "cell_type": "code",
   "execution_count": 12,
   "metadata": {},
   "outputs": [
    {
     "name": "stdout",
     "output_type": "stream",
     "text": [
      "Reaction ID: 32575260\n"
     ]
    },
    {
     "data": {
      "image/png": "[encoded data removed]",
      "text/plain": [
       "<PIL.PngImagePlugin.PngImageFile image mode=RGB size=1000x200>"
      ]
     },
     "metadata": {},
     "output_type": "display_data"
    },
    {
     "name": "stdout",
     "output_type": "stream",
     "text": [
      "Largest Reactant MW                                   623.036\n",
      "Reagent                               sodium tetrahydroborate\n",
      "Solvent (Reaction Details)                           methanol\n",
      "Time (Reaction Details) [h]                          0.166667\n",
      "Temperature (Reaction Details) [C]                          0\n",
      "Yield                                  73 percent; 24 percent\n",
      "Name: 0, dtype: object\n",
      "Link: https://www.reaxys.com/reaxys/secured/hopinto.do?context=C&query=CNR.CNR%3D20087673&database=RX&origin=ReaxysOutput&ln=\n",
      "\n",
      "Reaction ID: 32575260\n"
     ]
    },
    {
     "data": {
      "image/png": "[encoded data removed]",
      "text/plain": [
       "<PIL.PngImagePlugin.PngImageFile image mode=RGB size=1000x200>"
      ]
     },
     "metadata": {},
     "output_type": "display_data"
    },
    {
     "name": "stdout",
     "output_type": "stream",
     "text": [
      "Largest Reactant MW                                   623.036\n",
      "Reagent                               sodium tetrahydroborate\n",
      "Solvent (Reaction Details)                           methanol\n",
      "Time (Reaction Details) [h]                          0.166667\n",
      "Temperature (Reaction Details) [C]                          0\n",
      "Yield                                  73 percent; 24 percent\n",
      "Name: 1, dtype: object\n",
      "Link: https://www.reaxys.com/reaxys/secured/hopinto.do?context=C&query=CNR.CNR%3D77773165&database=RX&origin=ReaxysOutput&ln=\n",
      "\n"
     ]
    },
    {
     "data": {
      "text/html": [
       "<div>\n",
       "<style scoped>\n",
       "    .dataframe tbody tr th:only-of-type {\n",
       "        vertical-align: middle;\n",
       "    }\n",
       "\n",
       "    .dataframe tbody tr th {\n",
       "        vertical-align: top;\n",
       "    }\n",
       "\n",
       "    .dataframe thead th {\n",
       "        text-align: right;\n",
       "    }\n",
       "</style>\n",
       "<table border=\"1\" class=\"dataframe\">\n",
       "  <thead>\n",
       "    <tr style=\"text-align: right;\">\n",
       "      <th></th>\n",
       "      <th>Reaction</th>\n",
       "      <th>Reactant</th>\n",
       "      <th>Product</th>\n",
       "      <th>Reagent</th>\n",
       "      <th>Catalyst</th>\n",
       "      <th>Solvent (Reaction Details)</th>\n",
       "      <th>Time (Reaction Details) [h]</th>\n",
       "      <th>Temperature (Reaction Details) [C]</th>\n",
       "      <th>Yield</th>\n",
       "      <th>Reaction ID</th>\n",
       "      <th>Links to Reaxys</th>\n",
       "      <th>Reaction: Links to Reaxys</th>\n",
       "      <th>References</th>\n",
       "      <th>Reactant SMILES</th>\n",
       "      <th>Product SMILES</th>\n",
       "      <th>Change_MW</th>\n",
       "      <th>Largest Reactant MW</th>\n",
       "      <th>Yield (number)</th>\n",
       "      <th>change in C-O single bond</th>\n",
       "      <th>change in C=O double bond</th>\n",
       "    </tr>\n",
       "  </thead>\n",
       "  <tbody>\n",
       "    <tr>\n",
       "      <th>2719</th>\n",
       "      <td>[H][C@@]12C[C@@]11[C@@H](C[C@]3([H])[C@]([H])(...</td>\n",
       "      <td>C34H62O6Si2</td>\n",
       "      <td>C34H64O6Si2; C34H64O6Si2</td>\n",
       "      <td>sodium tetrahydroborate</td>\n",
       "      <td>NaN</td>\n",
       "      <td>methanol</td>\n",
       "      <td>0.166667</td>\n",
       "      <td>0</td>\n",
       "      <td>73 percent; 24 percent</td>\n",
       "      <td>32575260</td>\n",
       "      <td>https://www.reaxys.com/reaxys/secured/hopinto....</td>\n",
       "      <td>https://www.reaxys.com/reaxys/secured/hopinto....</td>\n",
       "      <td>Article; Isaka, Nobuhisa; Tamiya, Minoru; Hase...</td>\n",
       "      <td>['[H][C@@]12C[C@@]11[C@@H](C[C@]3([H])[C@]([H]...</td>\n",
       "      <td>['[H][C@@]12C[C@@]11[C@@H](C[C@]3([H])[C@]([H]...</td>\n",
       "      <td>4.032</td>\n",
       "      <td>623.036</td>\n",
       "      <td>97.0</td>\n",
       "      <td>1</td>\n",
       "      <td>-1</td>\n",
       "    </tr>\n",
       "    <tr>\n",
       "      <th>2720</th>\n",
       "      <td>[H][C@@]12C[C@@]11[C@@H](C[C@]3([H])[C@]([H])(...</td>\n",
       "      <td>C34H62O6Si2</td>\n",
       "      <td>C34H64O6Si2; C34H64O6Si2</td>\n",
       "      <td>sodium tetrahydroborate</td>\n",
       "      <td>NaN</td>\n",
       "      <td>methanol</td>\n",
       "      <td>0.166667</td>\n",
       "      <td>0</td>\n",
       "      <td>73 percent; 24 percent</td>\n",
       "      <td>32575260</td>\n",
       "      <td>https://www.reaxys.com/reaxys/secured/hopinto....</td>\n",
       "      <td>https://www.reaxys.com/reaxys/secured/hopinto....</td>\n",
       "      <td>Article; Tamiya, Minoru; Isaka, Nobuhisa; Kita...</td>\n",
       "      <td>['[H][C@@]12C[C@@]11[C@@H](C[C@]3([H])[C@]([H]...</td>\n",
       "      <td>['[H][C@@]12C[C@@]11[C@@H](C[C@]3([H])[C@]([H]...</td>\n",
       "      <td>4.032</td>\n",
       "      <td>623.036</td>\n",
       "      <td>97.0</td>\n",
       "      <td>1</td>\n",
       "      <td>-1</td>\n",
       "    </tr>\n",
       "  </tbody>\n",
       "</table>\n",
       "</div>"
      ],
      "text/plain": [
       "                                               Reaction     Reactant  \\\n",
       "2719  [H][C@@]12C[C@@]11[C@@H](C[C@]3([H])[C@]([H])(...  C34H62O6Si2   \n",
       "2720  [H][C@@]12C[C@@]11[C@@H](C[C@]3([H])[C@]([H])(...  C34H62O6Si2   \n",
       "\n",
       "                       Product                  Reagent  Catalyst  \\\n",
       "2719  C34H64O6Si2; C34H64O6Si2  sodium tetrahydroborate       NaN   \n",
       "2720  C34H64O6Si2; C34H64O6Si2  sodium tetrahydroborate       NaN   \n",
       "\n",
       "     Solvent (Reaction Details)  Time (Reaction Details) [h]  \\\n",
       "2719                   methanol                     0.166667   \n",
       "2720                   methanol                     0.166667   \n",
       "\n",
       "     Temperature (Reaction Details) [C]                   Yield  Reaction ID  \\\n",
       "2719                                  0  73 percent; 24 percent     32575260   \n",
       "2720                                  0  73 percent; 24 percent     32575260   \n",
       "\n",
       "                                        Links to Reaxys  \\\n",
       "2719  https://www.reaxys.com/reaxys/secured/hopinto....   \n",
       "2720  https://www.reaxys.com/reaxys/secured/hopinto....   \n",
       "\n",
       "                              Reaction: Links to Reaxys  \\\n",
       "2719  https://www.reaxys.com/reaxys/secured/hopinto....   \n",
       "2720  https://www.reaxys.com/reaxys/secured/hopinto....   \n",
       "\n",
       "                                             References  \\\n",
       "2719  Article; Isaka, Nobuhisa; Tamiya, Minoru; Hase...   \n",
       "2720  Article; Tamiya, Minoru; Isaka, Nobuhisa; Kita...   \n",
       "\n",
       "                                        Reactant SMILES  \\\n",
       "2719  ['[H][C@@]12C[C@@]11[C@@H](C[C@]3([H])[C@]([H]...   \n",
       "2720  ['[H][C@@]12C[C@@]11[C@@H](C[C@]3([H])[C@]([H]...   \n",
       "\n",
       "                                         Product SMILES  Change_MW  \\\n",
       "2719  ['[H][C@@]12C[C@@]11[C@@H](C[C@]3([H])[C@]([H]...      4.032   \n",
       "2720  ['[H][C@@]12C[C@@]11[C@@H](C[C@]3([H])[C@]([H]...      4.032   \n",
       "\n",
       "      Largest Reactant MW  Yield (number)  change in C-O single bond  \\\n",
       "2719              623.036            97.0                          1   \n",
       "2720              623.036            97.0                          1   \n",
       "\n",
       "      change in C=O double bond  \n",
       "2719                         -1  \n",
       "2720                         -1  "
      ]
     },
     "execution_count": 12,
     "metadata": {},
     "output_type": "execute_result"
    }
   ],
   "source": [
    "#### USE THIS CODE TO EXAMINE THE REACTION\n",
    "\n",
    "Reaction_ID = 32575260\n",
    "view_reactionScheme(SingleReduc_duplicate[SingleReduc_duplicate['Reaction ID'] == Reaction_ID], 2, 'keep duplicate')\n",
    "SingleReduc_duplicate[SingleReduc_duplicate['Reaction ID'] == Reaction_ID]"
   ]
  },
  {
   "cell_type": "markdown",
   "metadata": {},
   "source": [
    "#### <span style=\"color:salmon\"> Reaction ID = 5125708 </span>\n",
    "Same reaction, conditions, 2 reported yields (96% vs 96.3%) from 2 references with same title, same authors but published in 2 different years in 2 different journals. \n",
    "\n",
    "=> Both were actually 96%. Keep the one having 96% yield\n",
    "\n",
    "#### <span style=\"color:salmon\"> Reaction ID = 10088666 </span> \n",
    "Same reaction, conditions, yield, but different references  \n",
    "\n",
    "=> keep 1, no matter which\n",
    "\n",
    "#### <span style=\"color:salmon\"> Reaction ID = 2839467 </span> \n",
    "Same reaction, conditions, references, yield reported as '29.3 percent; 9 percent' and '29.3 percent; 9.0 percent' \n",
    "\n",
    "=> keep 1, no matter which\n",
    "\n",
    "#### <span style=\"color:salmon\"> Reaction ID = 50834932 </span> \n",
    "Same reaction, different reacting time with 2 different yields \n",
    "\n",
    "1h reaction ~ 94% \n",
    "\n",
    "0.5h reaction ~ 96% \n",
    "\n",
    "=> take average of the yields\n",
    "\n",
    "#### <span style=\"color:salmon\"> Reaction ID = 4899473 </span> \n",
    "Same reaction, conditions, yield, but 2 references \n",
    "\n",
    "=> keep 1, no matter which\n",
    "\n",
    "#### <span style=\"color:salmon\"> Reaction ID = 40358815 </span> \n",
    "Same reaction, conditions, yield, but 2 references \n",
    "\n",
    "=> keep 1, no matter which\n",
    "\n",
    "#### <span style=\"color:salmon\"> Reaction ID = 5103599 </span> \n",
    "Same reaction, different reacting time with 2 different yields \n",
    "\n",
    "12h reaction ~ 83% \n",
    "\n",
    "0.5h reaction ~ 96.7% \n",
    "\n",
    "=> Take average\n",
    "\n",
    "#### <span style=\"color:salmon\"> Reaction ID = 1159290 </span> \n",
    "Same reaction, conditions, 2 references reported 2 different yields\n",
    "\n",
    "=> Too different. Remove both\n",
    "\n",
    "#### <span style=\"color:salmon\"> Reaction ID = 32575260 </span> \n",
    "\n",
    "Same yield reported (2 references) for same reaction of same reaction conditions.\n",
    "\n",
    "Check the literatures: the yields are actually 74% and 23% (not 73 and 24) for both. \n",
    "Note for later if needed because this difference does not affect the sum for now\n",
    "\n",
    "=> keep 1, no matter which\n",
    "\n",
    "#### Based on comments above, handle duplicated rows and update yields. Note for later when verifying reactions with literatures."
   ]
  },
  {
   "cell_type": "code",
   "execution_count": 13,
   "metadata": {},
   "outputs": [
    {
     "name": "stdout",
     "output_type": "stream",
     "text": [
      "Number of Reactions: 490\n",
      "Number of Rows: 490\n"
     ]
    }
   ],
   "source": [
    "id_toremove = [1159290]\n",
    "id_tokeep1 =[5125708,10088666, 2839467, 50834932, 4899473, 40358815,5103599, 32575260] \n",
    "\n",
    "duplicate_rows = SingleReduc_duplicate[SingleReduc_duplicate['Reaction ID'].isin(id_tokeep1)]\n",
    "duplicate_rows = duplicate_rows.drop_duplicates(subset=['Reaction ID'])\n",
    "\n",
    "not_duplicate = SingleReduc_duplicate[~SingleReduc_duplicate['Reaction ID'].isin(id_tokeep1)]\n",
    "\n",
    "SingleReduc_final = pd.concat([duplicate_rows,not_duplicate])\n",
    "\n",
    "# Update the 'Yield' column for 'Reaction ID' 5125708, 50834932 and 5103599\n",
    "SingleReduc_final.loc[SingleReduc_final['Reaction ID'] == 50834932, 'Yield (number)'] = 96\n",
    "SingleReduc_final.loc[SingleReduc_final['Reaction ID'] == 50834932, 'Yield (number)'] = np.average([94,96])\n",
    "SingleReduc_final.loc[SingleReduc_final['Reaction ID'] == 5103599, 'Yield (number)'] = np.average([83,96.7])\n",
    "\n",
    "# Remove rows with 'Reaction ID' in id_toremove\n",
    "SingleReduc_final = SingleReduc_final[~SingleReduc_final['Reaction ID'].isin(id_toremove)]\n",
    "\n",
    "count_num_reaction(SingleReduc_final)"
   ]
  },
  {
   "cell_type": "markdown",
   "metadata": {},
   "source": [
    "#### <span style=\"color:salmon\"> Verify duplicated rows by reaction SMILES </span> \n",
    "\n",
    "There are 2 reaction are the same but were assigned to different ID: 48228963 and 48228690\n",
    "Everything else are the same -> keep 1"
   ]
  },
  {
   "cell_type": "code",
   "execution_count": 14,
   "metadata": {},
   "outputs": [
    {
     "data": {
      "text/plain": [
       "[H][C@]12CC[C@]3([H])[C@](CC1=C)(C2=O)C(=O)O[C@@]1([H])C[C@@]2([H])O[C@@]4([H])OC[C@@]31[C@@]4([H])C2(C)C>>[H][C@]12OC[C@]34[C@@]1([H])C(C)(C)[C@@]([H])(C[C@]3([H])OC(=O)[C@]13CC(=C)[C@]([H])(CC[C@@]41[H])[C@H]3O)O2    2\n",
       "COC(=O)[C@]1(O)CC2=CC(Cl)=CC=C2C1=O>>COC(=O)[C@]1(O)CC2=C(C=CC(Cl)=C2)[C@@H]1O                                                                                                                                             1\n",
       "O=C1CCC[C@@]2(CCCCC2=O)N1>>O[C@H]1CCCC[C@@]11CCCC(=O)N1                                                                                                                                                                    1\n",
       "Name: Reaction, dtype: int64"
      ]
     },
     "execution_count": 14,
     "metadata": {},
     "output_type": "execute_result"
    }
   ],
   "source": [
    "SingleReduc_final['Reaction'].value_counts().head(3)"
   ]
  },
  {
   "cell_type": "code",
   "execution_count": 15,
   "metadata": {},
   "outputs": [
    {
     "name": "stdout",
     "output_type": "stream",
     "text": [
      "Number of Reactions: 489\n",
      "Number of Rows: 489\n"
     ]
    }
   ],
   "source": [
    "SingleReduc_final = SingleReduc_final.drop_duplicates( subset = 'Reaction')\n",
    "count_num_reaction(SingleReduc_final)"
   ]
  },
  {
   "cell_type": "markdown",
   "metadata": {},
   "source": [
    "-----"
   ]
  },
  {
   "cell_type": "markdown",
   "metadata": {},
   "source": [
    "#### Save data"
   ]
  },
  {
   "cell_type": "code",
   "execution_count": 16,
   "metadata": {},
   "outputs": [],
   "source": [
    "# Save data\n",
    "SingleReduc_final.to_excel('SingleReduc_final(no human verified).xlsx', index=False)"
   ]
  }
 ],
 "metadata": {
  "kernelspec": {
   "display_name": "Python 3.9.13 ('base')",
   "language": "python",
   "name": "python3"
  },
  "language_info": {
   "codemirror_mode": {
    "name": "ipython",
    "version": 3
   },
   "file_extension": ".py",
   "mimetype": "text/x-python",
   "name": "python",
   "nbconvert_exporter": "python",
   "pygments_lexer": "ipython3",
   "version": "3.9.13"
  },
  "orig_nbformat": 4,
  "vscode": {
   "interpreter": {
    "hash": "3c3eef991fda4167de76cb619227e3e082741d590237b5216c9ef2b93b88359b"
   }
  }
 },
 "nbformat": 4,
 "nbformat_minor": 2
}
