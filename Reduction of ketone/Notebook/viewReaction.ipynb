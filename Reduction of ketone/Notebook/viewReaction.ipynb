{
 "cells": [
  {
   "cell_type": "code",
   "execution_count": 1,
   "metadata": {},
   "outputs": [],
   "source": [
    "import pandas as pd\n",
    "import numpy as np\n",
    "import re\n",
    "import matplotlib.pyplot as plt\n",
    "import sweetviz as sv\n",
    "from rdkit.Chem import rdChemReactions\n",
    "from rdkit.Chem import Draw\n",
    "from rdkit import Chem\n",
    "from rdkit.Chem import Descriptors\n",
    "\n",
    "from IPython.display import display\n",
    "from PIL import Image\n",
    "import io"
   ]
  },
  {
   "cell_type": "code",
   "execution_count": 2,
   "metadata": {},
   "outputs": [],
   "source": [
    "def count_num_reaction(data):\n",
    "    '''Count how many reactions there are'''\n",
    "    rxnCount_data = data['Reaction ID'].nunique()\n",
    "    print('Number of Reactions:', rxnCount_data)\n",
    "    print('Number of Rows:', data.shape[0])\n",
    "\n",
    "\n",
    "def view_reactionScheme(data, NumReaction_to_view, duplicate):\n",
    "    '''pick and show reaction scheme '''\n",
    "\n",
    "    if duplicate == 'drop duplicate':\n",
    "        Reaction_data = data.drop_duplicates(subset=['Reaction ID'], keep='first')\n",
    "        Reaction_data = Reaction_data.reset_index(drop=True)\n",
    "    elif duplicate == 'keep duplicate': \n",
    "        Reaction_data = data.reset_index(drop=False)\n",
    "    else:\n",
    "        raise ValueError('Invalid input')\n",
    "        \n",
    "    if NumReaction_to_view > Reaction_data.shape[0]:\n",
    "        raise ValueError('Number of reactions to view is more than the total number of reactions in the dataset')\n",
    "    else:\n",
    "        # Draw\n",
    "        random_start = np.random.randint(0, (Reaction_data.shape[0] - NumReaction_to_view + 1) , size=1)[0]\n",
    "        for idx, row in Reaction_data[random_start: random_start + NumReaction_to_view].iterrows():\n",
    "            reaction_smarts = row['Reaction']\n",
    "            rxn = rdChemReactions.ReactionFromSmarts(reaction_smarts, useSmiles=True)\n",
    "            if rxn:\n",
    "                print('Reaction ID:', Reaction_data.iloc[idx]['Reaction ID'])\n",
    "                img = Draw.ReactionToImage(rxn)\n",
    "                \n",
    "                # display image in notebook\n",
    "                with io.BytesIO() as output:\n",
    "                    img.save(output, format=\"PNG\")\n",
    "                    display(Image.open(output))\n",
    "                # Return conditions\n",
    "                print(row[['Largest Reactant MW', 'Reagent', 'Solvent (Reaction Details)', 'Time (Reaction Details) [h]', 'Temperature (Reaction Details) [C]', 'Yield']])\n",
    "                print(f'Link: {row[\"Links to Reaxys\"]}\\n')\n",
    "                print(f'Reaction Link: {row[\"Reaction: Links to Reaxys\"]}\\n')\n",
    "\n"
   ]
  },
  {
   "cell_type": "markdown",
   "metadata": {},
   "source": [
    "## <span style=\"color:blue\">  Import data after filtering consistent reaction conditions </span>"
   ]
  },
  {
   "cell_type": "code",
   "execution_count": 3,
   "metadata": {},
   "outputs": [
    {
     "name": "stdout",
     "output_type": "stream",
     "text": [
      "Number of Reactions: 489\n",
      "Number of Rows: 489\n"
     ]
    }
   ],
   "source": [
    "SingleReduc_final = pd.read_excel('/Users/suongsuong/Documents/GitHub/Reactivity-based-metric-of-complexity/Reduction of ketone/Notebook/SingleReduc_final(no human verified).xlsx')\n",
    "count_num_reaction(SingleReduc_final)"
   ]
  },
  {
   "cell_type": "markdown",
   "metadata": {},
   "source": [
    "## <span style=\"color:blue\">  Sort data by certain column </span>"
   ]
  },
  {
   "cell_type": "code",
   "execution_count": 4,
   "metadata": {},
   "outputs": [],
   "source": [
    "##USE THIS CODE TO sort by any column\n",
    "column_to_sort = 'Largest Reactant MW' # CHange here\n",
    "# Sort the data frame by MW of Reactant MW from smallest to largest\n",
    "SingleReduc_sort = SingleReduc_final.sort_values(by= column_to_sort , ascending=True, ignore_index= True)"
   ]
  },
  {
   "cell_type": "code",
   "execution_count": 5,
   "metadata": {},
   "outputs": [],
   "source": [
    "# Sort by references for easy to check\n",
    "column_to_sort = 'Links to Reaxys'\n",
    "\n",
    "# Create a temporary sorting key based on the value counts of the column\n",
    "sorting_key = SingleReduc_final[column_to_sort].value_counts().sort_values(ascending=False)\n",
    "\n",
    "# Sort the data frame using the temporary sorting key\n",
    "sorting_key_map = {value: index for index, value in enumerate(sorting_key.index)}\n",
    "\n",
    "SingleReduc_sort_Ref_count = SingleReduc_final.sort_values(by=column_to_sort, \n",
    "                                                           key=lambda x: x.map(sorting_key_map), \n",
    "                                                           ignore_index=True)"
   ]
  },
  {
   "cell_type": "markdown",
   "metadata": {},
   "source": [
    "## <span style=\"color:blue\">  View reaction </span>"
   ]
  },
  {
   "cell_type": "code",
   "execution_count": 7,
   "metadata": {},
   "outputs": [
    {
     "name": "stdout",
     "output_type": "stream",
     "text": [
      "Reaction ID: 4490693\n"
     ]
    },
    {
     "data": {
      "image/png": "[encoded data removed]",
      "text/plain": [
       "<PIL.PngImagePlugin.PngImageFile image mode=RGB size=1000x200>"
      ]
     },
     "metadata": {},
     "output_type": "display_data"
    },
    {
     "name": "stdout",
     "output_type": "stream",
     "text": [
      "Largest Reactant MW                                    192.28\n",
      "Reagent                               sodium tetrahydroborate\n",
      "Solvent (Reaction Details)                           methanol\n",
      "Time (Reaction Details) [h]                               0.5\n",
      "Temperature (Reaction Details) [C]                          0\n",
      "Yield                                  26 percent; 26 percent\n",
      "Name: 0, dtype: object\n",
      "Link: https://www.reaxys.com/reaxys/secured/hopinto.do?context=C&query=CNR.CNR%3D6019852&database=RX&origin=ReaxysOutput&ln=\n",
      "\n",
      "Reaction Link: https://www.reaxys.com/reaxys/secured/hopinto.do?context=R&query=RX.ID%3D4490693&database=RX&origin=ReaxysOutput&ln=\n",
      "\n",
      "Reaction ID: 4489690\n"
     ]
    },
    {
     "data": {
      "image/png": "[encoded data removed]",
      "text/plain": [
       "<PIL.PngImagePlugin.PngImageFile image mode=RGB size=1000x200>"
      ]
     },
     "metadata": {},
     "output_type": "display_data"
    },
    {
     "name": "stdout",
     "output_type": "stream",
     "text": [
      "Largest Reactant MW                                   191.274\n",
      "Reagent                               sodium tetrahydroborate\n",
      "Solvent (Reaction Details)                           methanol\n",
      "Time (Reaction Details) [h]                               0.5\n",
      "Temperature (Reaction Details) [C]                          0\n",
      "Yield                                  40 percent; 40 percent\n",
      "Name: 1, dtype: object\n",
      "Link: https://www.reaxys.com/reaxys/secured/hopinto.do?context=C&query=CNR.CNR%3D6019852&database=RX&origin=ReaxysOutput&ln=\n",
      "\n",
      "Reaction Link: https://www.reaxys.com/reaxys/secured/hopinto.do?context=R&query=RX.ID%3D4489690&database=RX&origin=ReaxysOutput&ln=\n",
      "\n"
     ]
    }
   ],
   "source": [
    "Number_of_reaction_to_view = 2   #if number less than data size, it will randomnly pick.\n",
    "\n",
    "duplicate = 'drop duplicate' #not matter at this stage\n",
    "\n",
    "view_reactionScheme(SingleReduc_sort_Ref_count[SingleReduc_sort_Ref_count['Reaction ID'].isin({\n",
    "    4490693,\n",
    "4489690\n",
    "})], Number_of_reaction_to_view, duplicate)"
   ]
  },
  {
   "cell_type": "code",
   "execution_count": null,
   "metadata": {},
   "outputs": [],
   "source": []
  }
 ],
 "metadata": {
  "kernelspec": {
   "display_name": "Python 3 (ipykernel)",
   "language": "python",
   "name": "python3"
  },
  "language_info": {
   "codemirror_mode": {
    "name": "ipython",
    "version": 3
   },
   "file_extension": ".py",
   "mimetype": "text/x-python",
   "name": "python",
   "nbconvert_exporter": "python",
   "pygments_lexer": "ipython3",
   "version": "3.9.13"
  },
  "vscode": {
   "interpreter": {
    "hash": "3c3eef991fda4167de76cb619227e3e082741d590237b5216c9ef2b93b88359b"
   }
  }
 },
 "nbformat": 4,
 "nbformat_minor": 2
}
