{
 "cells": [
  {
   "cell_type": "code",
   "execution_count": 1,
   "id": "a46b51fe",
   "metadata": {},
   "outputs": [],
   "source": [
    "import pandas as pd\n",
    "import os\n",
    "import numpy as np\n",
    "from rdkit import Chem\n",
    "import sweetviz as sv\n",
    "from rdkit.Chem import Draw\n",
    "from rdkit.Chem import rdChemReactions"
   ]
  },
  {
   "cell_type": "code",
   "execution_count": 2,
   "id": "e5054694",
   "metadata": {},
   "outputs": [],
   "source": [
    "from IPython.display import display\n",
    "from PIL import Image\n",
    "import io"
   ]
  },
  {
   "cell_type": "code",
   "execution_count": 3,
   "id": "5f38afe4",
   "metadata": {},
   "outputs": [],
   "source": [
    "def count_num_reaction(data):\n",
    "    '''Count how many reactions there are'''\n",
    "    rxnCount_data = data['Reaction ID'].nunique()\n",
    "    print('Number of Reactions:', rxnCount_data)\n",
    "    print('Number of Rows:', data.shape[0])\n",
    "\n",
    "def view_reactionScheme(data, NumReaction_to_view, duplicate):\n",
    "    '''pick and show reaction scheme '''\n",
    "\n",
    "    if duplicate == 'drop duplicate':\n",
    "        Reaction_data = data.drop_duplicates(subset=['Reaction ID'], keep='first')\n",
    "        Reaction_data = Reaction_data.reset_index(drop=True)\n",
    "    elif duplicate == 'keep duplicate': \n",
    "        Reaction_data = data.reset_index(drop=True)\n",
    "    else:\n",
    "        raise ValueError('Invalid input')\n",
    "        \n",
    "    if NumReaction_to_view > Reaction_data.shape[0]:\n",
    "        raise ValueError('Number of reactions to view is more than the total number of reactions in the dataset')\n",
    "    else:\n",
    "        # Draw\n",
    "        random_start = np.random.randint(0, (Reaction_data.shape[0] - NumReaction_to_view + 1) , size=1)[0]\n",
    "        for idx, row in Reaction_data[random_start: random_start + NumReaction_to_view].iterrows():\n",
    "            reaction_smarts = row['Reaction']\n",
    "            rxn = rdChemReactions.ReactionFromSmarts(reaction_smarts, useSmiles=True)\n",
    "            if rxn:\n",
    "                print('Reaction ID:', Reaction_data.iloc[idx]['Reaction ID'])\n",
    "                img = Draw.ReactionToImage(rxn)\n",
    "                \n",
    "                # display image in notebook\n",
    "                with io.BytesIO() as output:\n",
    "                    img.save(output, format=\"PNG\")\n",
    "                    display(Image.open(output))\n",
    "                # Return conditions\n",
    "                print(row[['Largest Reactant MW', 'Reagent', 'Solvent (Reaction Details)', 'Time (Reaction Details) [h]', 'Temperature (Reaction Details) [C]', 'Yield']])\n",
    "                print(f'Link: {row[\"Links to Reaxys\"]}\\n')\n",
    "                \n",
    "def count_C_O_bonds(molecule_SMILES, bond_type):\n",
    "    '''given molecule SMILES and bond type, count the number of bonds between C and O'''\n",
    "    mol = Chem.MolFromSmiles(molecule_SMILES)\n",
    "    num_bonds = 0\n",
    "    for bond in mol.GetBonds():\n",
    "        a1 = bond.GetBeginAtom()\n",
    "        a2 = bond.GetEndAtom()\n",
    "        if (a1.GetAtomicNum() == 6 and a2.GetAtomicNum() == 8) or (a1.GetAtomicNum() == 8 and a2.GetAtomicNum() == 6):\n",
    "            if bond.GetBondType() == bond_type:\n",
    "                num_bonds += 1            \n",
    "    return num_bonds\n",
    "\n",
    "def change_C_O_bonds(reactant_SMILES, product_SMILES, bond_type):\n",
    "    '''given the product, reactant SMILES and bondtype, calculate the change in # of bonds between C and O'''\n",
    "    change = count_C_O_bonds(product_SMILES, bond_type) - count_C_O_bonds(reactant_SMILES, bond_type)\n",
    "    return change\n",
    "\n",
    "def change_single_and_double_C_O_bond(data):\n",
    "    '''given the data frame having 'Reactant SMILES' and 'Product SMILES', calculate the change in # of single and double bonds between C and O'''\n",
    "    data['change in C-O single bond'] = data.apply(\n",
    "        lambda x: change_C_O_bonds(x['Reactant SMILES'][0], x['Product SMILES'][0], Chem.rdchem.BondType.SINGLE), axis=1)\n",
    "    data['change in C=O double bond'] = data.apply(\n",
    "        lambda x: change_C_O_bonds(x['Reactant SMILES'][0], x['Product SMILES'][0], Chem.rdchem.BondType.DOUBLE), axis=1)\n",
    "    return data\n",
    "\n"
   ]
  },
  {
   "cell_type": "code",
   "execution_count": 4,
   "id": "5bd3c41e",
   "metadata": {},
   "outputs": [],
   "source": [
    "# Change working directory\n",
    "os.chdir('/Users/suongsuong/Documents/GitHub/Reactivity-based-metric-of-complexity/Reduction of ketone/Notebook/')"
   ]
  },
  {
   "cell_type": "markdown",
   "id": "bac6b1a5",
   "metadata": {},
   "source": [
    "## <span style=\"color:blue\"> Import data after checking by MW </span>"
   ]
  },
  {
   "cell_type": "code",
   "execution_count": 5,
   "id": "8b3a57a9",
   "metadata": {},
   "outputs": [
    {
     "name": "stdout",
     "output_type": "stream",
     "text": [
      "Number of Reactions: 2020\n",
      "Number of Rows: 2742\n"
     ]
    }
   ],
   "source": [
    "SingleReduction_byMW = pd.read_excel('SingleReduction_byMW.xlsx')\n",
    "count_num_reaction(SingleReduction_byMW)"
   ]
  },
  {
   "cell_type": "code",
   "execution_count": 6,
   "id": "24d542de",
   "metadata": {},
   "outputs": [
    {
     "name": "stdout",
     "output_type": "stream",
     "text": [
      "Number of Reactions: 213\n",
      "Number of Rows: 285\n"
     ]
    }
   ],
   "source": [
    "Stereo_SingleReduction_byMW = pd.read_excel('Stereo_SingleReduction_byMW.xlsx')\n",
    "count_num_reaction(Stereo_SingleReduction_byMW)"
   ]
  },
  {
   "cell_type": "markdown",
   "id": "20cdea9f",
   "metadata": {},
   "source": [
    "## <span style=\"color:blue\"> Concatenate both data sets </span>"
   ]
  },
  {
   "cell_type": "code",
   "execution_count": 7,
   "id": "bdeed0b7",
   "metadata": {},
   "outputs": [
    {
     "name": "stdout",
     "output_type": "stream",
     "text": [
      "Number of Reactions: 2233\n",
      "Number of Rows: 3027\n"
     ]
    }
   ],
   "source": [
    "SingleReduc_byMW_all = pd.concat([SingleReduction_byMW,Stereo_SingleReduction_byMW], axis = 0)\n",
    "count_num_reaction(SingleReduc_byMW_all)"
   ]
  },
  {
   "cell_type": "code",
   "execution_count": 8,
   "id": "d44c5a47",
   "metadata": {},
   "outputs": [],
   "source": [
    "# turn to list of strings\n",
    "SingleReduc_byMW_all['Reactant SMILES'] = SingleReduc_byMW_all['Reactant SMILES'].apply(lambda x: eval(x))\n",
    "SingleReduc_byMW_all['Product SMILES'] = SingleReduc_byMW_all['Product SMILES'].apply(lambda x: eval(x))"
   ]
  },
  {
   "cell_type": "markdown",
   "id": "996f9c22",
   "metadata": {},
   "source": [
    "## <span style=\"color:blue\">  Only take reaction having 1 more single bond C-O and 1 less double bond C=O after reaction</span>"
   ]
  },
  {
   "cell_type": "code",
   "execution_count": 9,
   "id": "b457aff1",
   "metadata": {},
   "outputs": [],
   "source": [
    "# get bond change\n",
    "SingleReduc_byMW_all = change_single_and_double_C_O_bond(SingleReduc_byMW_all)"
   ]
  },
  {
   "cell_type": "code",
   "execution_count": 10,
   "id": "e8257d43",
   "metadata": {},
   "outputs": [
    {
     "name": "stdout",
     "output_type": "stream",
     "text": [
      "Number of Reactions: 2210\n",
      "Number of Rows: 3000\n"
     ]
    }
   ],
   "source": [
    "# Filter reaction having correct CO bond change\n",
    "SingleReduc_byCObond = SingleReduc_byMW_all[\n",
    "    (SingleReduc_byMW_all['change in C-O single bond'] == 1) & (SingleReduc_byMW_all['change in C=O double bond'] == -1)\n",
    "]\n",
    "count_num_reaction(SingleReduc_byCObond)"
   ]
  },
  {
   "cell_type": "markdown",
   "id": "a68ff205",
   "metadata": {},
   "source": [
    "### Example of removed reaction"
   ]
  },
  {
   "cell_type": "code",
   "execution_count": 11,
   "id": "28cd04c6",
   "metadata": {},
   "outputs": [
    {
     "data": {
      "text/plain": [
       "1    3000\n",
       "2      11\n",
       "3       8\n",
       "0       8\n",
       "Name: change in C-O single bond, dtype: int64"
      ]
     },
     "execution_count": 11,
     "metadata": {},
     "output_type": "execute_result"
    }
   ],
   "source": [
    "SingleReduc_byMW_all['change in C-O single bond'].value_counts()"
   ]
  },
  {
   "cell_type": "code",
   "execution_count": 12,
   "id": "3312bd6c",
   "metadata": {},
   "outputs": [
    {
     "data": {
      "text/plain": [
       "-1    3011\n",
       "-2       8\n",
       " 0       8\n",
       "Name: change in C=O double bond, dtype: int64"
      ]
     },
     "execution_count": 12,
     "metadata": {},
     "output_type": "execute_result"
    }
   ],
   "source": [
    "SingleReduc_byMW_all['change in C=O double bond'].value_counts()"
   ]
  },
  {
   "cell_type": "code",
   "execution_count": 13,
   "id": "8ae73bbc",
   "metadata": {},
   "outputs": [
    {
     "name": "stdout",
     "output_type": "stream",
     "text": [
      "Number of Reactions: 23\n",
      "Number of Rows: 27\n"
     ]
    }
   ],
   "source": [
    "removed_rxn = SingleReduc_byMW_all[\n",
    "    (SingleReduc_byMW_all['change in C-O single bond'] != 1) | (SingleReduc_byMW_all['change in C=O double bond'] != -1)\n",
    "]\n",
    "count_num_reaction(removed_rxn)"
   ]
  },
  {
   "cell_type": "code",
   "execution_count": 14,
   "id": "12a863d2",
   "metadata": {},
   "outputs": [],
   "source": [
    "#view_reactionScheme(removed_rxn, 3, 'drop duplicate')"
   ]
  },
  {
   "cell_type": "markdown",
   "id": "603f09a4",
   "metadata": {},
   "source": [
    "## <span style=\"color:blue\">  Save data </span>"
   ]
  },
  {
   "cell_type": "code",
   "execution_count": 15,
   "id": "f9cae901",
   "metadata": {},
   "outputs": [],
   "source": [
    "# Save data\n",
    "SingleReduc_byCObond.to_excel('SingleReduc_byCObond.xlsx', index=False)"
   ]
  },
  {
   "cell_type": "markdown",
   "id": "4cba3b33",
   "metadata": {},
   "source": [
    "### EDA after 3 steps"
   ]
  },
  {
   "cell_type": "code",
   "execution_count": 16,
   "id": "6d23d22c",
   "metadata": {},
   "outputs": [
    {
     "data": {
      "application/vnd.jupyter.widget-view+json": {
       "model_id": "bd7d22b5d5644fa7aafe65bdc27aac10",
       "version_major": 2,
       "version_minor": 0
      },
      "text/plain": [
       "                                             |          | [  0%]   00:00 -> (? left)"
      ]
     },
     "metadata": {},
     "output_type": "display_data"
    },
    {
     "name": "stderr",
     "output_type": "stream",
     "text": [
      "/Users/suongsuong/opt/anaconda3/lib/python3.9/site-packages/sweetviz/series_analyzer.py:17: FutureWarning: The default dtype for empty Series will be 'object' instead of 'float64' in a future version. Specify a dtype explicitly to silence this warning.\n",
      "  value_counts_without_nan = pd.Series()\n"
     ]
    },
    {
     "name": "stdout",
     "output_type": "stream",
     "text": [
      "Report Notebook/EDA_CObond.html was generated! NOTEBOOK/COLAB USERS: the web browser MAY not pop up, regardless, the report IS saved in your notebook/colab files.\n"
     ]
    }
   ],
   "source": [
    "columns_with_lists = [col for col in SingleReduc_byCObond.columns if SingleReduc_byCObond[col].apply(lambda x: isinstance(x, list)).any()]\n",
    "EDA_CObond = SingleReduc_byCObond.drop(columns=columns_with_lists)\n",
    "eda = sv.analyze(EDA_CObond)\n",
    "eda.show_html(filepath='EDA_CObond.html')"
   ]
  }
 ],
 "metadata": {
  "kernelspec": {
   "display_name": "Python 3.9.13 ('base')",
   "language": "python",
   "name": "python3"
  },
  "language_info": {
   "codemirror_mode": {
    "name": "ipython",
    "version": 3
   },
   "file_extension": ".py",
   "mimetype": "text/x-python",
   "name": "python",
   "nbconvert_exporter": "python",
   "pygments_lexer": "ipython3",
   "version": "3.9.13"
  },
  "vscode": {
   "interpreter": {
    "hash": "3c3eef991fda4167de76cb619227e3e082741d590237b5216c9ef2b93b88359b"
   }
  }
 },
 "nbformat": 4,
 "nbformat_minor": 5
}
