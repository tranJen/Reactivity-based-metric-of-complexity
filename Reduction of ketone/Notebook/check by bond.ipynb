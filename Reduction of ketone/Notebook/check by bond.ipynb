{
 "cells": [
  {
   "cell_type": "code",
   "execution_count": 1,
   "id": "d78f6049",
   "metadata": {},
   "outputs": [],
   "source": [
    "import pandas as pd\n",
    "import os\n",
    "from rdkit import Chem\n",
    "from rdkit.Chem import Draw\n",
    "from rdkit.Chem import AllChem\n",
    "from rdkit.Chem import rdChemReactions\n",
    "from rdkit.Chem import Descriptors"
   ]
  },
  {
   "cell_type": "code",
   "execution_count": 2,
   "id": "5f38afe4",
   "metadata": {},
   "outputs": [],
   "source": [
    "def count_num_reaction(data):\n",
    "    # Count how many reactions there are\n",
    "    rxnCount_data = data['Reaction ID'].nunique()\n",
    "    print('Number of Reactions:', rxnCount_data)\n",
    "    print('Number of Rows:', data.shape[0])\n",
    "\n",
    "def count_C_O_bonds(molecule_SMILES, bond_type):\n",
    "    mol = Chem.MolFromSmiles(molecule_SMILES)\n",
    "    num_bonds = 0\n",
    "    for bond in mol.GetBonds():\n",
    "        a1 = bond.GetBeginAtom()\n",
    "        a2 = bond.GetEndAtom()\n",
    "        if (a1.GetAtomicNum() == 6 and a2.GetAtomicNum() == 8) or (a1.GetAtomicNum() == 8 and a2.GetAtomicNum() == 6):\n",
    "            if bond.GetBondType() == bond_type:\n",
    "                num_bonds += 1            \n",
    "    return num_bonds\n",
    "\n",
    "def change_C_O_bonds(reactant_SMILES, product_SMILES, bond_type):\n",
    "    change = count_C_O_bonds(product_SMILES, bond_type) - count_C_O_bonds(reactant_SMILES, bond_type)\n",
    "    return change\n",
    "\n",
    "def change_single_and_double_C_O_bond(data):\n",
    "    data['change in C-O single bond'] = data.apply(\n",
    "        lambda x: change_C_O_bonds(x['Reactant SMILES'][0], x['Product SMILES'][0], Chem.rdchem.BondType.SINGLE), axis=1)\n",
    "    data['change in C=O double bond'] = data.apply(\n",
    "        lambda x: change_C_O_bonds(x['Reactant SMILES'][0], x['Product SMILES'][0], Chem.rdchem.BondType.DOUBLE), axis=1)\n",
    "    return data"
   ]
  },
  {
   "cell_type": "code",
   "execution_count": 3,
   "id": "5bd3c41e",
   "metadata": {},
   "outputs": [],
   "source": [
    "# Change working directory\n",
    "os.chdir('/Users/suongsuong/Documents/GitHub/Reactivity-based-metric-of-complexity')"
   ]
  },
  {
   "cell_type": "markdown",
   "id": "bac6b1a5",
   "metadata": {},
   "source": [
    "## <span style=\"color:blue\"> Import data after checking by MW </span>"
   ]
  },
  {
   "cell_type": "code",
   "execution_count": 4,
   "id": "8b3a57a9",
   "metadata": {},
   "outputs": [
    {
     "name": "stdout",
     "output_type": "stream",
     "text": [
      "Number of Reactions: 431\n",
      "Number of Rows: 1061\n"
     ]
    }
   ],
   "source": [
    "SingleReduction_byMW = pd.read_excel('Reduction of ketone/Notebook/SingleReduction_byMW.xlsx')\n",
    "count_num_reaction(SingleReduction_byMW)"
   ]
  },
  {
   "cell_type": "code",
   "execution_count": 5,
   "id": "24d542de",
   "metadata": {},
   "outputs": [
    {
     "name": "stdout",
     "output_type": "stream",
     "text": [
      "Number of Reactions: 60\n",
      "Number of Rows: 105\n"
     ]
    }
   ],
   "source": [
    "Stereo_SingleReduction_byMW = pd.read_excel('Reduction of ketone/Notebook/Stereo_SingleReduction_byMW.xlsx')\n",
    "count_num_reaction(Stereo_SingleReduction_byMW)"
   ]
  },
  {
   "cell_type": "markdown",
   "id": "20cdea9f",
   "metadata": {},
   "source": [
    "## <span style=\"color:blue\"> Concatenate both data sets </span>"
   ]
  },
  {
   "cell_type": "code",
   "execution_count": 6,
   "id": "bdeed0b7",
   "metadata": {},
   "outputs": [],
   "source": [
    "SingleReduc_byMW = pd.concat([SingleReduction_byMW,Stereo_SingleReduction_byMW], axis = 0)"
   ]
  },
  {
   "cell_type": "code",
   "execution_count": 7,
   "id": "d44c5a47",
   "metadata": {},
   "outputs": [],
   "source": [
    "# turn to list of strings\n",
    "SingleReduc_byMW['Reactant SMILES'] = SingleReduc_byMW['Reactant SMILES'].apply(lambda x: eval(x))\n",
    "SingleReduc_byMW['Product SMILES'] = SingleReduc_byMW['Product SMILES'].apply(lambda x: eval(x))"
   ]
  },
  {
   "cell_type": "markdown",
   "id": "996f9c22",
   "metadata": {},
   "source": [
    "## <span style=\"color:blue\">  Only take reaction that have 1 more single bond C-O and 1 less double bond C=O </span>"
   ]
  },
  {
   "cell_type": "code",
   "execution_count": 8,
   "id": "b457aff1",
   "metadata": {},
   "outputs": [],
   "source": [
    "# get bond change\n",
    "SingleReduc_byMW = change_single_and_double_C_O_bond(SingleReduc_byMW)"
   ]
  },
  {
   "cell_type": "code",
   "execution_count": 9,
   "id": "e8257d43",
   "metadata": {},
   "outputs": [
    {
     "name": "stdout",
     "output_type": "stream",
     "text": [
      "Number of Reactions: 484\n",
      "Number of Rows: 1156\n"
     ]
    }
   ],
   "source": [
    "# Filter\n",
    "SingleReduc_byCObond = SingleReduc_byMW[\n",
    "    (SingleReduc_byMW['change in C-O single bond'] == 1) & (SingleReduc_byMW['change in C=O double bond'] == -1)\n",
    "]\n",
    "count_num_reaction(SingleReduc_byCObond)"
   ]
  },
  {
   "cell_type": "code",
   "execution_count": 10,
   "id": "f9cae901",
   "metadata": {},
   "outputs": [],
   "source": [
    "# Save data\n",
    "SingleReduc_byCObond.to_excel('Reduction of ketone/Notebook/SingleReduc_byCObond.xlsx', index=False)"
   ]
  }
 ],
 "metadata": {
  "kernelspec": {
   "display_name": "Python 3.9.13 ('base')",
   "language": "python",
   "name": "python3"
  },
  "language_info": {
   "codemirror_mode": {
    "name": "ipython",
    "version": 3
   },
   "file_extension": ".py",
   "mimetype": "text/x-python",
   "name": "python",
   "nbconvert_exporter": "python",
   "pygments_lexer": "ipython3",
   "version": "3.9.13"
  },
  "vscode": {
   "interpreter": {
    "hash": "3c3eef991fda4167de76cb619227e3e082741d590237b5216c9ef2b93b88359b"
   }
  }
 },
 "nbformat": 4,
 "nbformat_minor": 5
}
