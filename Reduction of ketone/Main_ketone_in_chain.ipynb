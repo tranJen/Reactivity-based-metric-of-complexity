{
 "cells": [
  {
   "cell_type": "code",
   "execution_count": 1,
   "id": "e31120cc",
   "metadata": {},
   "outputs": [],
   "source": [
    "import pandas as pd\n",
    "import numpy as np\n",
    "import sweetviz as sv\n",
    "import os\n",
    "import matplotlib.pyplot as plt\n",
    "\n",
    "from count_view_Reaction import *\n",
    "from step1_to_4 import *"
   ]
  },
  {
   "cell_type": "markdown",
   "id": "edbece9a",
   "metadata": {},
   "source": [
    "# <span style=\"color:blue\"> Search data on Reaxys </span>\n",
    "- Draw as shown\n",
    "<img src=\"Reaxys_Raw data/draw/ketone_in_chain_search.png\" width=\"400\" height=\"180\">\n",
    "- Choose ‘as substructure’ then ‘On all atoms’\n",
    "- Start with **131,870 reactions**\n",
    "- Limit to ‘sodium tetrahydroborate’, single-step, article → **22,995 reactions**\n",
    "- Exclude NA yield → **10,868 reactions**\n"
   ]
  },
  {
   "cell_type": "markdown",
   "id": "6202b702",
   "metadata": {},
   "source": [
    "# <span style=\"color:blue\"> Import data </span>\n",
    "\n",
    "- Double check number of reactions"
   ]
  },
  {
   "cell_type": "code",
   "execution_count": 2,
   "id": "84e81099",
   "metadata": {},
   "outputs": [],
   "source": [
    "# Change working directory\n",
    "os.chdir('/Users/suongsuong/Documents/GitHub/Reactivity-based-metric-of-complexity/Reduction of ketone/')"
   ]
  },
  {
   "cell_type": "code",
   "execution_count": 3,
   "id": "b757b2c1",
   "metadata": {},
   "outputs": [
    {
     "name": "stdout",
     "output_type": "stream",
     "text": [
      "Number of Reactions: 10868\n",
      "Number of Rows: 42306\n"
     ]
    }
   ],
   "source": [
    "ketone_in_chain= pd.read_excel('Reaxys_Raw data/ketone_in_chain.xlsx')\n",
    "count_num_reaction(ketone_in_chain)\n",
    "count_num_row(ketone_in_chain)"
   ]
  },
  {
   "cell_type": "markdown",
   "id": "847914b7",
   "metadata": {},
   "source": [
    "# <span style=\"color:blue\"> EDA </span>\n",
    "#### view HTML file for EDA result. "
   ]
  },
  {
   "cell_type": "code",
   "execution_count": 4,
   "id": "8bee2e01",
   "metadata": {},
   "outputs": [],
   "source": [
    "#eda = sv.analyze(ketone_in_chain)\n",
    "#eda.show_html(filepath='Reaxys_Raw data/EDA_Rawdata_ketone_in_chain.html')"
   ]
  },
  {
   "cell_type": "markdown",
   "id": "ae8ebf8a",
   "metadata": {},
   "source": [
    "###  <span style=\"color:blue\"> Step 1: General Cleaning</span>\n",
    "### <span style=\"color:blue\"> Step 2: Verify reaction by MW</span>\n",
    "### <span style=\"color:blue\"> Step 3: Verify reaction by change in C-O bonds</span>\n",
    "### <span style=\"color:blue\"> Step 4: Ensure consistent reaction conditions</span>"
   ]
  },
  {
   "cell_type": "code",
   "execution_count": 5,
   "id": "03bb5c7d",
   "metadata": {},
   "outputs": [
    {
     "name": "stdout",
     "output_type": "stream",
     "text": [
      "STEP 1 - general cleaning:\n",
      "Number of Reactions: 4885\n",
      "---------------------------------------\n",
      "STEP 2 - Verify reaction by change in MW:\n",
      "Number of Reactions: 4177\n",
      "Number of Rows: 8259\n",
      "---------------------------------------\n",
      "1    8259\n",
      "Name: change in C-O single bond, dtype: int64\n",
      "-1    8259\n",
      "Name: change in C=O double bond, dtype: int64\n",
      "STEP 3 - Verify reaction by change in C-O bond:\n",
      "Number of Reactions: 4177\n",
      "Number of Rows: 8259\n",
      "---------------------------------------\n",
      "STEP 4 - Ensure consistent reaction conditions:\n",
      " - After filtering by reagent:\n",
      "Number of Reactions: 2986\n",
      " - After filtering by solvent:\n",
      "Number of Reactions: 1730\n",
      " - After filtering by temperature:\n",
      "Number of Reactions: 629\n",
      " - After filtering by time:\n",
      "Number of Reactions: 628\n",
      "Number of Rows: 644\n"
     ]
    }
   ],
   "source": [
    "ketone_in_chain_clean_1_to_4 = step_1_to_4(ketone_in_chain)"
   ]
  },
  {
   "cell_type": "markdown",
   "id": "2a12efe7",
   "metadata": {},
   "source": [
    "### <span style=\"color:blue\"> Step 5: Inspect duplicate rows </span>"
   ]
  },
  {
   "cell_type": "code",
   "execution_count": 6,
   "id": "6122d774",
   "metadata": {},
   "outputs": [
    {
     "data": {
      "text/plain": [
       "997369      3\n",
       "855977      2\n",
       "2532675     2\n",
       "34623882    2\n",
       "2163086     2\n",
       "2104996     2\n",
       "1985375     2\n",
       "34623878    2\n",
       "34623890    2\n",
       "4551209     2\n",
       "39265034    2\n",
       "46506389    2\n",
       "38244374    2\n",
       "782191      2\n",
       "578384      2\n",
       "5048629     1\n",
       "673876      1\n",
       "35423632    1\n",
       "48152818    1\n",
       "48152829    1\n",
       "Name: Reaction ID, dtype: int64"
      ]
     },
     "execution_count": 6,
     "metadata": {},
     "output_type": "execute_result"
    }
   ],
   "source": [
    "ketone_in_chain_clean_1_to_4['Reaction ID'].value_counts().head(20)"
   ]
  },
  {
   "cell_type": "code",
   "execution_count": 7,
   "id": "04626608",
   "metadata": {},
   "outputs": [],
   "source": [
    "#### USE THIS CODE TO EXAMINE THE REACTION\n",
    "\n",
    "# Reaction_ID = 997369\n",
    "# view_reactionScheme(ketone_in_chain_clean_1_to_4[ketone_in_chain_clean_1_to_4['Reaction ID'] == Reaction_ID], 2, 'keep duplicate')\n",
    "# ketone_in_chain_clean_1_to_4[ketone_in_chain_clean_1_to_4['Reaction ID'] == Reaction_ID]"
   ]
  },
  {
   "cell_type": "markdown",
   "id": "e46a90af",
   "metadata": {},
   "source": [
    "<span style=\"color:salmon\"> Reaction ID = 578384 </span>\n",
    "\n",
    "Difference references.\n",
    "Reaction of 64%% yield is defined by LCMS\n",
    "The one of 95% has no purification step\n",
    "\n",
    "=> keep the one of 64% yield\n",
    "\n",
    "<span style=\"color:salmon\"> Reaction ID = 782191 </span>\n",
    "\n",
    "Difference references.\n",
    "Reaction of 27%% yield is defined by LCMS\n",
    "The one of 63% - no access even by requesting via MIT library\n",
    "\n",
    "=> Keep the one of 27%\n",
    "\n",
    "<span style=\"color:salmon\"> Reaction ID = 39265034 </span>\n",
    "\n",
    "Difference references.\n",
    "Reaction of 90% yield having wrong temperature\n",
    "The one of 100% have no purification step \n",
    "\n",
    "=> Keep the one having 100 % for now\n",
    "\n",
    "<span style=\"color:salmon\"> Reaction ID = 1985375 </span>\n",
    "Difference references, the right reaction is 0.5 h and 80 %. The other one has no procedure reported\n",
    "\n",
    "=> Keep the one having 80 %\n",
    "\n",
    "<span style=\"color:salmon\"> Reaction ID = 2163086 </span>\n",
    "Difference references, the right reaction is 1.5 h and 95 %. The other one has no procedure reported\n",
    "\n",
    "=> Keep the one having 95 %\n",
    "\n",
    "<span style=\"color:salmon\"> Reaction ID = 2163086 </span>\n",
    "Same reference\n",
    "The right reaction is 1h and 67%\n",
    "\n",
    "=> Keep the one having 67%\n",
    "\n",
    "<span style=\"color:salmon\"> Reaction ID = 997369 </span>\n",
    "\n",
    "The reaction of 0.5h and 90% yield. the time was wrongly reported, it's actually 2/3 h\n",
    "\n",
    "=> Keep the 2 other two then take average of yield, and time. \n",
    "\n",
    "<span style=\"color:salmon\"> Reaction ID = 855977 </span>\n",
    "\n",
    "The reaction having 960% yield. no detailed procedure reported\n",
    "\n",
    "=> Keep the one having 100%\n",
    "\n",
    "<span style=\"color:salmon\"> Reaction ID = 2532675 </span>\n",
    " \n",
    "Exact same reference.\n",
    "=> Keep the one having the right yield which is 47 percent; 45 percent\n",
    "\n",
    "<span style=\"color:salmon\"> Reaction ID =  34623882, 34623878, 34623890, 4551209,46506389, 38244374  </span> \n",
    "\n",
    "Same reaction, conditions, yield, but different journals\n",
    "\n",
    "=> keep 1, no matter which\n"
   ]
  },
  {
   "cell_type": "code",
   "execution_count": 8,
   "id": "a5ed97f5",
   "metadata": {},
   "outputs": [
    {
     "name": "stdout",
     "output_type": "stream",
     "text": [
      "Number of Reactions: 628\n",
      "Number of Rows: 628\n"
     ]
    }
   ],
   "source": [
    "id_tokeep1_nomatter = [34623882, 34623878, 34623890, 4551209,46506389, 38244374]\n",
    "id_tokeep1_condition = [855977, 2163086,2104996,1985375, 39265034, 578384, 78219,2532675]\n",
    "\n",
    "# Keep 1 no matter what condition\n",
    "chain_remove_duplicate = pd.concat([\n",
    "    ketone_in_chain_clean_1_to_4[ketone_in_chain_clean_1_to_4['Reaction ID'].isin(id_tokeep1_nomatter)].drop_duplicates(subset=['Reaction ID']),\n",
    "    ketone_in_chain_clean_1_to_4[~ketone_in_chain_clean_1_to_4['Reaction ID'].isin(id_tokeep1_nomatter)]\n",
    "])\n",
    "\n",
    "\n",
    "# Keep 1 with condition\n",
    "conditions = [\n",
    "    (855977, 'Yield (number)', 100),\n",
    "    (2163086, 'Yield (number)', 67),\n",
    "    (2104996, 'Yield (number)', 95),\n",
    "    (1985375, 'Yield (number)', 80),\n",
    "    (39265034, 'Yield (number)', 100),\n",
    "    (578384, 'Yield (number)', 64),\n",
    "    (782191, 'Yield (number)', 27),\n",
    "    (2532675, 'Yield', '47 percent; 45 percent') ## update yield(number)\n",
    "]\n",
    "\n",
    "not_conditions = chain_remove_duplicate[~chain_remove_duplicate['Reaction ID'].isin(id_tokeep1_condition)]\n",
    "condition_rows = [chain_remove_duplicate[(chain_remove_duplicate['Reaction ID'] == id) & (chain_remove_duplicate[col] == val)] for id, col, val in conditions]\n",
    "\n",
    "for id, col, val in conditions:\n",
    "    if col == 'Yield (number)':\n",
    "        chain_remove_duplicate.loc[chain_remove_duplicate['Reaction ID'] == id, 'Yield'] = (str(val) + 'percent')\n",
    "\n",
    "chain_remove_duplicate = pd.concat([not_conditions] + condition_rows)\n",
    "\n",
    "\n",
    "# Update the 'Yield' and 'Time' column for 'Reaction ID' 997369\n",
    "#note: remove one of 0.5h and 90%, take average of the other 2.\n",
    "chain_remove_duplicate = chain_remove_duplicate.drop(chain_remove_duplicate[\n",
    "    (chain_remove_duplicate['Reaction ID'] == 997369) &\n",
    "    (chain_remove_duplicate['Yield (number)'] == 90) &\n",
    "    (chain_remove_duplicate['Time (Reaction Details) [h]'] == 0.5)\n",
    "    ].index)\n",
    "chain_remove_duplicate = chain_remove_duplicate.drop_duplicates(subset=['Reaction ID'])\n",
    "chain_remove_duplicate.loc[chain_remove_duplicate['Reaction ID'] == 2227545, 'Yield (number)'] = np.average([90, 98])\n",
    "chain_remove_duplicate.loc[chain_remove_duplicate['Reaction ID'] == 2227545, 'Yield'] = str(np.average([90, 98]))\n",
    "chain_remove_duplicate.loc[chain_remove_duplicate['Reaction ID'] == 2227545, 'Time (Reaction Details) [h]'] = np.average([0.5, 2/3])\n",
    "\n",
    "\n",
    "count_num_reaction(chain_remove_duplicate)\n",
    "count_num_row(chain_remove_duplicate)\n"
   ]
  },
  {
   "cell_type": "markdown",
   "id": "6c1f7dd6",
   "metadata": {},
   "source": [
    "#### <span style=\"color:salmon\"> Verify duplicated rows by reaction SMILES </span> \n",
    "\n",
    "There are 2 reaction are the same but were assigned to different ID: 48228963 and 48228690\n",
    "Everything else are the same -> keep 1"
   ]
  },
  {
   "cell_type": "code",
   "execution_count": 26,
   "id": "e3fe3a9e",
   "metadata": {},
   "outputs": [
    {
     "data": {
      "text/plain": [
       "COC(OC)C1=CC=CC=C1C(CC#N)C(=O)C1=CC=CC=C1>>COC(OC)C1=CC=CC=C1[C@H](CC#N)[C@H](O)C1=CC=CC=C1                                1\n",
       "COC(=O)C1=CC=C(C=C1)C(=O)CCN1CCC(=CC1)C1=CC=C(F)C=C1>>COC(=O)C1=CC=C(C=C1)C(O)CCN1CCC(=CC1)C1=CC=C(F)C=C1                  1\n",
       "CC1=CC=C(C=C1)S(=O)(=O)NC1=CC=C(F)C=C1C(=O)\\C=C\\C1=CC=CC=C1>>CC1=CC=C(C=C1)S(=O)(=O)NC1=CC=C(F)C=C1C(O)\\C=C\\C1=CC=CC=C1    1\n",
       "Name: Reaction, dtype: int64"
      ]
     },
     "execution_count": 26,
     "metadata": {},
     "output_type": "execute_result"
    }
   ],
   "source": [
    "chain_remove_duplicate['Reaction'].value_counts().head(3)"
   ]
  },
  {
   "cell_type": "markdown",
   "id": "9aeb5319",
   "metadata": {},
   "source": [
    "### <span style=\"color:blue\"> Step 6: Manually verify reaction by checking literature </span>"
   ]
  },
  {
   "cell_type": "markdown",
   "id": "d37c1730",
   "metadata": {},
   "source": [
    "----------"
   ]
  },
  {
   "cell_type": "markdown",
   "id": "f736073f",
   "metadata": {},
   "source": [
    "## <span style=\"color:blue\"> Histogram of Yield (number) </span>"
   ]
  },
  {
   "cell_type": "markdown",
   "id": "6008e1d4",
   "metadata": {},
   "source": [
    "---------\n",
    "#### Save data - cyclo5,6ketone"
   ]
  }
 ],
 "metadata": {
  "kernelspec": {
   "display_name": "Python 3.9.13 ('base')",
   "language": "python",
   "name": "python3"
  },
  "language_info": {
   "codemirror_mode": {
    "name": "ipython",
    "version": 3
   },
   "file_extension": ".py",
   "mimetype": "text/x-python",
   "name": "python",
   "nbconvert_exporter": "python",
   "pygments_lexer": "ipython3",
   "version": "3.9.13"
  },
  "vscode": {
   "interpreter": {
    "hash": "3c3eef991fda4167de76cb619227e3e082741d590237b5216c9ef2b93b88359b"
   }
  }
 },
 "nbformat": 4,
 "nbformat_minor": 5
}
