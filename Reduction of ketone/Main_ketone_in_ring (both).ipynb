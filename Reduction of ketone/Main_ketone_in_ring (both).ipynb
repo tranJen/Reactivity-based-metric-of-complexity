{
 "cells": [
  {
   "cell_type": "code",
   "execution_count": 13,
   "id": "e31120cc",
   "metadata": {},
   "outputs": [],
   "source": [
    "import pandas as pd\n",
    "import numpy as np\n",
    "import sweetviz as sv\n",
    "import os\n",
    "import matplotlib.pyplot as plt\n",
    "\n",
    "from count_view_Reaction import *\n",
    "from step1_to_4 import *"
   ]
  },
  {
   "cell_type": "code",
   "execution_count": 14,
   "id": "84e81099",
   "metadata": {},
   "outputs": [],
   "source": [
    "# Change working directory\n",
    "os.chdir('/Users/suongsuong/Documents/GitHub/Reactivity-based-metric-of-complexity/Reduction of ketone/')"
   ]
  },
  {
   "cell_type": "markdown",
   "id": "edbece9a",
   "metadata": {},
   "source": [
    "# <span style=\"color:blue\"> Search data on Reaxys </span>\n",
    "- Draw as shown\n",
    "<img src=\"Reaxys_Raw data/draw/ketone_in_ring_search.png\" width=\"400\" height=\"180\">\n",
    "- Choose ‘as substructure’ then ‘On all atoms’\n",
    "- Start with **142,563 reactions**\n",
    "- Limit to ‘sodium tetrahydroborate’, single-step, article → **22,722 reactions**\n",
    "- Exclude NA yield → **11,432 reactions**\n"
   ]
  },
  {
   "cell_type": "markdown",
   "id": "6202b702",
   "metadata": {},
   "source": [
    "# <span style=\"color:blue\"> Import data </span>\n",
    "\n",
    "- Double check number of reactions"
   ]
  },
  {
   "cell_type": "code",
   "execution_count": 15,
   "id": "b757b2c1",
   "metadata": {},
   "outputs": [
    {
     "name": "stdout",
     "output_type": "stream",
     "text": [
      "Number of Reactions: 11432\n",
      "Number of Rows: 21137\n"
     ]
    }
   ],
   "source": [
    "ketone_in_ring = pd.read_excel('Reaxys_Raw data/ketone_in_ring.xlsx')\n",
    "count_num_reaction(ketone_in_ring)\n",
    "count_num_row(ketone_in_ring)"
   ]
  },
  {
   "cell_type": "markdown",
   "id": "964508b2",
   "metadata": {},
   "source": [
    "Because of the searching query, this data includes the reduction of cyclo-5,6-ketone.\n",
    "Concat both data, then process (including remove duplicates rows)"
   ]
  },
  {
   "cell_type": "code",
   "execution_count": 16,
   "id": "7c21db89",
   "metadata": {},
   "outputs": [
    {
     "name": "stdout",
     "output_type": "stream",
     "text": [
      "Number of Reactions: 5421\n",
      "Number of Rows: 11834\n"
     ]
    }
   ],
   "source": [
    "cyclo_56_ketone = pd.read_excel('Reaxys_Raw data/cyclo5,6.xlsx')\n",
    "count_num_reaction(cyclo_56_ketone)\n",
    "count_num_row(cyclo_56_ketone)"
   ]
  },
  {
   "cell_type": "code",
   "execution_count": 17,
   "id": "16cdd4c8",
   "metadata": {},
   "outputs": [],
   "source": [
    "# Only takes these information:\n",
    "columns_to_keep = [ \n",
    "    'Reaction', \n",
    "    'Reactant', \n",
    "    'Product', \n",
    "    'Reagent', \n",
    "    'Catalyst', \n",
    "    'Solvent (Reaction Details)',\n",
    "    \n",
    "    'Time (Reaction Details) [h]',\n",
    "    'Temperature (Reaction Details) [C]',\n",
    "    \n",
    "    'Yield',\n",
    "    \n",
    "    'Reaction ID', \n",
    "    'Links to Reaxys',\n",
    "    'Reaction: Links to Reaxys',\n",
    "    'References'\n",
    "]\n",
    "\n",
    "ketone_in_ring = ketone_in_ring[columns_to_keep]\n",
    "cyclo_56_ketone = cyclo_56_ketone[columns_to_keep]\n"
   ]
  },
  {
   "cell_type": "code",
   "execution_count": 18,
   "id": "3734e8ae",
   "metadata": {},
   "outputs": [
    {
     "name": "stdout",
     "output_type": "stream",
     "text": [
      "Rows only in ketone_in_ring:\n",
      "Number of Reactions: 6205\n",
      "Number of Rows: 10100\n",
      "Rows after appending:\n",
      "Number of Reactions: 11617\n",
      "Number of Rows: 21934\n"
     ]
    }
   ],
   "source": [
    "merged = pd.merge(ketone_in_ring,cyclo_56_ketone, indicator=True, how='outer')\n",
    "\n",
    "# Get the on only in ketone_ring \n",
    "only_ketone_ring = merged[merged['_merge'] == 'left_only'].drop('_merge', axis = 1)\n",
    "print('Rows only in ketone_in_ring:')\n",
    "count_num_reaction(only_ketone_ring)\n",
    "count_num_row(only_ketone_ring)\n",
    "\n",
    "# then append origianl cyclo_56_ketone\n",
    "full_cyclo_ketone = pd.concat([only_ketone_ring, cyclo_56_ketone], ignore_index=True)\n",
    "print('Rows after appending:')\n",
    "count_num_reaction(full_cyclo_ketone)\n",
    "count_num_row(full_cyclo_ketone)"
   ]
  },
  {
   "cell_type": "markdown",
   "id": "ae8ebf8a",
   "metadata": {},
   "source": [
    "###  <span style=\"color:blue\"> Step 1: General Cleaning</span>\n",
    "### <span style=\"color:blue\"> Step 2: Verify reaction by MW</span>\n",
    "### <span style=\"color:blue\"> Step 3: Verify reaction by change in C-O bonds</span>\n",
    "### <span style=\"color:blue\"> Step 4: Ensure consistent reaction conditions</span>"
   ]
  },
  {
   "cell_type": "code",
   "execution_count": 19,
   "id": "03bb5c7d",
   "metadata": {},
   "outputs": [
    {
     "name": "stdout",
     "output_type": "stream",
     "text": [
      "STEP 1 - general cleaning:\n",
      "Number of Reactions: 5644\n",
      "---------------------------------------\n"
     ]
    },
    {
     "name": "stderr",
     "output_type": "stream",
     "text": [
      "[12:55:58] Explicit valence for atom # 9 N, 4, is greater than permitted\n",
      "[12:55:58] Explicit valence for atom # 9 N, 4, is greater than permitted\n"
     ]
    },
    {
     "name": "stdout",
     "output_type": "stream",
     "text": [
      "STEP 2 - Verify reaction by change in MW:\n",
      "Number of Reactions: 4886\n",
      "---------------------------------------\n",
      "STEP 3 - Verify reaction by change in C-O bond:\n",
      "Number of Reactions: 4856\n",
      "---------------------------------------\n",
      "STEP 4 - Ensure consistent reaction conditions:\n",
      " - After filtering by reagent:\n",
      "Number of Reactions: 3458\n",
      " - After filtering by solvent:\n",
      "Number of Reactions: 1948\n",
      " - After filtering by temperature:\n",
      "Number of Reactions: 776\n",
      " - After filtering by time:\n",
      "Number of Reactions: 771\n",
      "Number of Rows: 788\n"
     ]
    }
   ],
   "source": [
    "full_ketone_ring_clean_1_to_4 = step_1_to_4(full_cyclo_ketone)"
   ]
  },
  {
   "cell_type": "markdown",
   "id": "2a12efe7",
   "metadata": {},
   "source": [
    "### <span style=\"color:blue\"> Step 5: Inspect duplicate rows </span>"
   ]
  },
  {
   "cell_type": "code",
   "execution_count": 20,
   "id": "6122d774",
   "metadata": {},
   "outputs": [
    {
     "data": {
      "text/plain": [
       "26019020    2\n",
       "31427347    2\n",
       "26019012    2\n",
       "10088666    2\n",
       "50834932    2\n",
       "4899473     2\n",
       "2839467     2\n",
       "8974540     2\n",
       "5103599     2\n",
       "5125708     2\n",
       "2227545     2\n",
       "35575077    2\n",
       "2451291     2\n",
       "1159290     2\n",
       "40358815    2\n",
       "32575260    2\n",
       "5228268     2\n",
       "38024391    1\n",
       "34392968    1\n",
       "37541659    1\n",
       "Name: Reaction ID, dtype: int64"
      ]
     },
     "execution_count": 20,
     "metadata": {},
     "output_type": "execute_result"
    }
   ],
   "source": [
    "full_ketone_ring_clean_1_to_4['Reaction ID'].value_counts().head(20)"
   ]
  },
  {
   "cell_type": "code",
   "execution_count": 21,
   "id": "04626608",
   "metadata": {},
   "outputs": [
    {
     "name": "stdout",
     "output_type": "stream",
     "text": [
      "Reaction ID: 5228268\n"
     ]
    },
    {
     "data": {
      "image/png": "[encoded data removed]",
      "text/plain": [
       "<PIL.PngImagePlugin.PngImageFile image mode=RGB size=600x200>"
      ]
     },
     "metadata": {},
     "output_type": "display_data"
    },
    {
     "name": "stdout",
     "output_type": "stream",
     "text": [
      "Reagent                               sodium tetrahydroborate\n",
      "Solvent (Reaction Details)                           methanol\n",
      "Time (Reaction Details) [h]                               1.0\n",
      "Temperature (Reaction Details) [C]                          0\n",
      "Yield                                              97 percent\n",
      "Name: 0, dtype: object\n",
      "Link: https://www.reaxys.com/reaxys/secured/hopinto.do?context=C&query=CNR.CNR%3D6192081&database=RX&origin=ReaxysOutput&ln=\n",
      "\n",
      "Reaction ID: 5228268\n"
     ]
    },
    {
     "data": {
      "image/png": "[encoded data removed]",
      "text/plain": [
       "<PIL.PngImagePlugin.PngImageFile image mode=RGB size=600x200>"
      ]
     },
     "metadata": {},
     "output_type": "display_data"
    },
    {
     "name": "stdout",
     "output_type": "stream",
     "text": [
      "Reagent                               sodium tetrahydroborate\n",
      "Solvent (Reaction Details)                           methanol\n",
      "Time (Reaction Details) [h]                               0.5\n",
      "Temperature (Reaction Details) [C]                          0\n",
      "Yield                                              97 percent\n",
      "Name: 1, dtype: object\n",
      "Link: https://www.reaxys.com/reaxys/secured/hopinto.do?context=C&query=CNR.CNR%3D6216323&database=RX&origin=ReaxysOutput&ln=\n",
      "\n"
     ]
    },
    {
     "data": {
      "text/html": [
       "<div>\n",
       "<style scoped>\n",
       "    .dataframe tbody tr th:only-of-type {\n",
       "        vertical-align: middle;\n",
       "    }\n",
       "\n",
       "    .dataframe tbody tr th {\n",
       "        vertical-align: top;\n",
       "    }\n",
       "\n",
       "    .dataframe thead th {\n",
       "        text-align: right;\n",
       "    }\n",
       "</style>\n",
       "<table border=\"1\" class=\"dataframe\">\n",
       "  <thead>\n",
       "    <tr style=\"text-align: right;\">\n",
       "      <th></th>\n",
       "      <th>Reaction</th>\n",
       "      <th>Reactant</th>\n",
       "      <th>Product</th>\n",
       "      <th>Reagent</th>\n",
       "      <th>Catalyst</th>\n",
       "      <th>Solvent (Reaction Details)</th>\n",
       "      <th>Time (Reaction Details) [h]</th>\n",
       "      <th>Temperature (Reaction Details) [C]</th>\n",
       "      <th>Yield</th>\n",
       "      <th>Reaction ID</th>\n",
       "      <th>Links to Reaxys</th>\n",
       "      <th>Reaction: Links to Reaxys</th>\n",
       "      <th>References</th>\n",
       "      <th>Yield (number)</th>\n",
       "      <th>Reactant SMILES</th>\n",
       "      <th>Product SMILES</th>\n",
       "      <th>Change_MW</th>\n",
       "      <th>Largest Reactant MW</th>\n",
       "      <th>change in C-O single bond</th>\n",
       "      <th>change in C=O double bond</th>\n",
       "    </tr>\n",
       "  </thead>\n",
       "  <tbody>\n",
       "    <tr>\n",
       "      <th>1994</th>\n",
       "      <td>C=CCC1N(CCCC1=O)C(=O)OCC1=CC=CC=C1&gt;&gt;O[C@@H]1CC...</td>\n",
       "      <td>Benzyl 2-allyl-3-oxo-1-piperidinecarboxylate</td>\n",
       "      <td>(2S*,3S*)-Benzyl 2-allyl-3-hydroxy-1-piperidin...</td>\n",
       "      <td>sodium tetrahydroborate</td>\n",
       "      <td>NaN</td>\n",
       "      <td>methanol</td>\n",
       "      <td>1.0</td>\n",
       "      <td>0</td>\n",
       "      <td>97 percent</td>\n",
       "      <td>5228268</td>\n",
       "      <td>https://www.reaxys.com/reaxys/secured/hopinto....</td>\n",
       "      <td>https://www.reaxys.com/reaxys/secured/hopinto....</td>\n",
       "      <td>Article; Takeuchi, Yasuo; Hattori, Mayumi; Abe...</td>\n",
       "      <td>97.0</td>\n",
       "      <td>[C=CCC1N(CCCC1=O)C(=O)OCC1=CC=CC=C1]</td>\n",
       "      <td>[O[C@@H]1CCCN([C@@H]1CC=C)C(=O)OCC1=CC=CC=C1]</td>\n",
       "      <td>2.016</td>\n",
       "      <td>273.332</td>\n",
       "      <td>1</td>\n",
       "      <td>-1</td>\n",
       "    </tr>\n",
       "    <tr>\n",
       "      <th>1995</th>\n",
       "      <td>C=CCC1N(CCCC1=O)C(=O)OCC1=CC=CC=C1&gt;&gt;O[C@@H]1CC...</td>\n",
       "      <td>Benzyl 2-allyl-3-oxo-1-piperidinecarboxylate</td>\n",
       "      <td>(2S*,3S*)-Benzyl 2-allyl-3-hydroxy-1-piperidin...</td>\n",
       "      <td>sodium tetrahydroborate</td>\n",
       "      <td>NaN</td>\n",
       "      <td>methanol</td>\n",
       "      <td>0.5</td>\n",
       "      <td>0</td>\n",
       "      <td>97 percent</td>\n",
       "      <td>5228268</td>\n",
       "      <td>https://www.reaxys.com/reaxys/secured/hopinto....</td>\n",
       "      <td>https://www.reaxys.com/reaxys/secured/hopinto....</td>\n",
       "      <td>Article; Takeuchi, Yasuo; Abe, Hitoshi; Haraya...</td>\n",
       "      <td>97.0</td>\n",
       "      <td>[C=CCC1N(CCCC1=O)C(=O)OCC1=CC=CC=C1]</td>\n",
       "      <td>[O[C@@H]1CCCN([C@@H]1CC=C)C(=O)OCC1=CC=CC=C1]</td>\n",
       "      <td>2.016</td>\n",
       "      <td>273.332</td>\n",
       "      <td>1</td>\n",
       "      <td>-1</td>\n",
       "    </tr>\n",
       "  </tbody>\n",
       "</table>\n",
       "</div>"
      ],
      "text/plain": [
       "                                               Reaction  \\\n",
       "1994  C=CCC1N(CCCC1=O)C(=O)OCC1=CC=CC=C1>>O[C@@H]1CC...   \n",
       "1995  C=CCC1N(CCCC1=O)C(=O)OCC1=CC=CC=C1>>O[C@@H]1CC...   \n",
       "\n",
       "                                          Reactant  \\\n",
       "1994  Benzyl 2-allyl-3-oxo-1-piperidinecarboxylate   \n",
       "1995  Benzyl 2-allyl-3-oxo-1-piperidinecarboxylate   \n",
       "\n",
       "                                                Product  \\\n",
       "1994  (2S*,3S*)-Benzyl 2-allyl-3-hydroxy-1-piperidin...   \n",
       "1995  (2S*,3S*)-Benzyl 2-allyl-3-hydroxy-1-piperidin...   \n",
       "\n",
       "                      Reagent Catalyst Solvent (Reaction Details)  \\\n",
       "1994  sodium tetrahydroborate      NaN                   methanol   \n",
       "1995  sodium tetrahydroborate      NaN                   methanol   \n",
       "\n",
       "      Time (Reaction Details) [h] Temperature (Reaction Details) [C]  \\\n",
       "1994                          1.0                                  0   \n",
       "1995                          0.5                                  0   \n",
       "\n",
       "           Yield  Reaction ID  \\\n",
       "1994  97 percent      5228268   \n",
       "1995  97 percent      5228268   \n",
       "\n",
       "                                        Links to Reaxys  \\\n",
       "1994  https://www.reaxys.com/reaxys/secured/hopinto....   \n",
       "1995  https://www.reaxys.com/reaxys/secured/hopinto....   \n",
       "\n",
       "                              Reaction: Links to Reaxys  \\\n",
       "1994  https://www.reaxys.com/reaxys/secured/hopinto....   \n",
       "1995  https://www.reaxys.com/reaxys/secured/hopinto....   \n",
       "\n",
       "                                             References  Yield (number)  \\\n",
       "1994  Article; Takeuchi, Yasuo; Hattori, Mayumi; Abe...            97.0   \n",
       "1995  Article; Takeuchi, Yasuo; Abe, Hitoshi; Haraya...            97.0   \n",
       "\n",
       "                           Reactant SMILES  \\\n",
       "1994  [C=CCC1N(CCCC1=O)C(=O)OCC1=CC=CC=C1]   \n",
       "1995  [C=CCC1N(CCCC1=O)C(=O)OCC1=CC=CC=C1]   \n",
       "\n",
       "                                     Product SMILES  Change_MW  \\\n",
       "1994  [O[C@@H]1CCCN([C@@H]1CC=C)C(=O)OCC1=CC=CC=C1]      2.016   \n",
       "1995  [O[C@@H]1CCCN([C@@H]1CC=C)C(=O)OCC1=CC=CC=C1]      2.016   \n",
       "\n",
       "      Largest Reactant MW  change in C-O single bond  \\\n",
       "1994              273.332                          1   \n",
       "1995              273.332                          1   \n",
       "\n",
       "      change in C=O double bond  \n",
       "1994                         -1  \n",
       "1995                         -1  "
      ]
     },
     "execution_count": 21,
     "metadata": {},
     "output_type": "execute_result"
    }
   ],
   "source": [
    "#### USE THIS CODE TO EXAMINE THE REACTION\n",
    "\n",
    "Reaction_ID = 5228268\n",
    "view_reactionScheme(full_ketone_ring_clean_1_to_4[full_ketone_ring_clean_1_to_4['Reaction ID'] == Reaction_ID], 2, 'keep duplicate')\n",
    "full_ketone_ring_clean_1_to_4[full_ketone_ring_clean_1_to_4['Reaction ID'] == Reaction_ID]"
   ]
  },
  {
   "cell_type": "markdown",
   "id": "e46a90af",
   "metadata": {},
   "source": [
    "<span style=\"color:salmon\"> Reaction ID = 5228268 </span> \n",
    "\n",
    "different time, the right time is 0.5\n",
    "=> Keep the one having time of 0.5 h\n",
    "\n",
    "<span style=\"color:salmon\"> Reaction ID = 2227545 </span> \n",
    "\n",
    "Same reaction, different reacting time with 2 different yields \n",
    "\n",
    "1h reaction ~ 90 % \n",
    "\n",
    "1.5h reaction ~ 82% \n",
    "\n",
    "=> take average of time and yields\n",
    "\n",
    "<span style=\"color:salmon\"> Reaction ID = 8974540 </span>\n",
    "\n",
    "2 references with 2 different time and yield.\n",
    "Check reference, the one yielding 70% is overall yield including other reaction\n",
    "\n",
    "=> Keep the one having 97% yield\n",
    "\n",
    "<span style=\"color:salmon\"> Reaction ID = 31427347 </span>\n",
    "\n",
    "2 references with 2 different time and yield.\n",
    "Check reference, the one yielding 99% having no reaction, or procedure reported\n",
    "\n",
    "=> Keep the one having 100% yield\n",
    "\n",
    "<span style=\"color:salmon\"> Reaction ID = 5125708 </span>\n",
    "\n",
    "Same reaction, conditions, 2 reported yields (96% vs 96.3%) from 2 references with same title, same authors but published in 2 different years in 2 different journals. \n",
    "\n",
    "=> Both were actually 96%. Keep the one having 96% yield\n",
    "\n",
    "<span style=\"color:salmon\"> Reaction ID = 10088666</span> \n",
    "\n",
    "Not purifying in both paper\n",
    "\n",
    "=> Remove both\n",
    "\n",
    "<span style=\"color:salmon\"> Reaction ID =  4899473, 40358815, 26019020, 26019012, 35575077, 2451291,  2839467 </span> \n",
    "\n",
    "Same reaction, conditions, yield, but different journals\n",
    "\n",
    "=> keep 1, no matter which\n",
    "\n",
    "\n",
    "<span style=\"color:salmon\"> Reaction ID = 50834932 </span> \n",
    "\n",
    "Same reaction, different reacting time with 2 different yields \n",
    "\n",
    "the one yielding 94% have no procedure reported \n",
    "\n",
    "=> Keep the one having 96% yield\n",
    "\n",
    "<span style=\"color:salmon\"> Reaction ID = 5103599 </span> \n",
    "\n",
    "Same reaction, different reacting time with 2 different yields \n",
    "\n",
    "12h reaction ~ 83%  => no procedure reported\n",
    "\n",
    "0.5h reaction ~ 96.7% \n",
    "\n",
    "=> keep one yielding 83%\n",
    "\n",
    "<span style=\"color:salmon\"> Reaction ID = 1159290 </span> \n",
    "\n",
    "Same reaction, conditions, 2 references reported 2 different yields\n",
    "\n",
    "=> Too different. Remove both\n",
    "\n",
    "<span style=\"color:salmon\"> Reaction ID = 32575260 </span> \n",
    "\n",
    "Same yield reported (2 references) for same reaction of same reaction conditions.\n",
    "\n",
    "Check the literatures: the yields are actually 74% and 23% (not 73 and 24) for both. \n",
    "Note for later if needed because this difference does not affect the sum for now\n",
    "\n",
    "Note: both have no procedure reported\n",
    "\n",
    "=> keep 1, no matter which\n",
    "\n",
    "#### Based on comments above, handle duplicated rows and update yields. Note for later when verifying reactions with literatures."
   ]
  },
  {
   "cell_type": "code",
   "execution_count": 22,
   "id": "afa57b18",
   "metadata": {},
   "outputs": [
    {
     "name": "stdout",
     "output_type": "stream",
     "text": [
      "Number of Reactions: 771\n",
      "Number of Rows: 780\n",
      "Number of Reactions: 769\n",
      "Number of Rows: 775\n",
      "Number of Reactions: 769\n",
      "Number of Rows: 769\n"
     ]
    }
   ],
   "source": [
    "id_toremove = [10088666, 1159290]\n",
    "id_tokeep1_nomatter = [4899473, 40358815, 26019020, 26019012, 35575077, 2451291, 2839467, 32575260]\n",
    "id_tokeep1_average = [2227545]\n",
    "id_tokeep1_condition = [5228268, 8974540, 31427347, 5125708, 50834932, 5103599]\n",
    "\n",
    "# Keep 1 no matter what condition\n",
    "cyclo_remove_duplicate = pd.concat([\n",
    "    full_ketone_ring_clean_1_to_4[full_ketone_ring_clean_1_to_4['Reaction ID'].isin(id_tokeep1_nomatter)].drop_duplicates(subset=['Reaction ID']),\n",
    "    full_ketone_ring_clean_1_to_4[~full_ketone_ring_clean_1_to_4['Reaction ID'].isin(id_tokeep1_nomatter)]\n",
    "])\n",
    "\n",
    "count_num_reaction(cyclo_remove_duplicate)\n",
    "count_num_row(cyclo_remove_duplicate)\n",
    "# Update the 'Yield' and 'Time' column for 'Reaction ID' 2227545\n",
    "cyclo_remove_duplicate = pd.concat([\n",
    "    cyclo_remove_duplicate[cyclo_remove_duplicate['Reaction ID'].isin(id_tokeep1_average)].drop_duplicates(subset=['Reaction ID']),\n",
    "    cyclo_remove_duplicate[~cyclo_remove_duplicate['Reaction ID'].isin(id_tokeep1_average)]\n",
    "])\n",
    "cyclo_remove_duplicate.loc[cyclo_remove_duplicate['Reaction ID'] == 2227545, 'Yield (number)'] = np.average([90, 82])\n",
    "cyclo_remove_duplicate.loc[cyclo_remove_duplicate['Reaction ID'] == 2227545, 'Yield'] = str(np.average([90, 82]))\n",
    "cyclo_remove_duplicate.loc[cyclo_remove_duplicate['Reaction ID'] == 2227545, 'Time (Reaction Details) [h]'] = np.average([1, 1.5])\n",
    "\n",
    "# Remove rows with 'Reaction ID' in id_toremove\n",
    "cyclo_remove_duplicate = cyclo_remove_duplicate[~cyclo_remove_duplicate['Reaction ID'].isin(id_toremove)]\n",
    "\n",
    "count_num_reaction(cyclo_remove_duplicate)\n",
    "count_num_row(cyclo_remove_duplicate)\n",
    "# Keep 1 with condition\n",
    "conditions = [\n",
    "    (5228268, 'Time (Reaction Details) [h]', 0.5),\n",
    "    (8974540, 'Yield (number)', 97),\n",
    "    (31427347, 'Yield (number)', 100),\n",
    "    (5125708, 'Yield (number)', 96),\n",
    "    (50834932, 'Yield (number)', 96),\n",
    "    (5103599, 'Yield (number)', 83)\n",
    "]\n",
    "\n",
    "not_conditions = cyclo_remove_duplicate[~cyclo_remove_duplicate['Reaction ID'].isin(id_tokeep1_condition)]\n",
    "condition_rows = [cyclo_remove_duplicate[(cyclo_remove_duplicate['Reaction ID'] == id) & (cyclo_remove_duplicate[col] == val)] for id, col, val in conditions]\n",
    "\n",
    "for id, col, val in conditions:\n",
    "    if col == 'Yield (number)':\n",
    "        cyclo_remove_duplicate.loc[cyclo_remove_duplicate['Reaction ID'] == id, 'Yield'] = (str(val) + 'percent')\n",
    "\n",
    "cyclo_remove_duplicate = pd.concat([not_conditions] + condition_rows)\n",
    "\n",
    "count_num_reaction(cyclo_remove_duplicate)\n",
    "count_num_row(cyclo_remove_duplicate)\n"
   ]
  },
  {
   "cell_type": "markdown",
   "id": "6c1f7dd6",
   "metadata": {},
   "source": [
    "#### <span style=\"color:salmon\"> Verify duplicated rows by reaction SMILES </span> \n",
    "\n",
    "There are 2 reaction are the same but were assigned to different ID: 48228963 and 48228690\n",
    "Everything else are the same -> keep 1"
   ]
  },
  {
   "cell_type": "code",
   "execution_count": 23,
   "id": "e3fe3a9e",
   "metadata": {},
   "outputs": [
    {
     "data": {
      "text/plain": [
       "[H][C@]12CC[C@]3([H])[C@](CC1=C)(C2=O)C(=O)O[C@@]1([H])C[C@@]2([H])O[C@@]4([H])OC[C@@]31[C@@]4([H])C2(C)C>>[H][C@]12OC[C@]34[C@@]1([H])C(C)(C)[C@@]([H])(C[C@]3([H])OC(=O)[C@]13CC(=C)[C@]([H])(CC[C@@]41[H])[C@H]3O)O2    2\n",
       "COC(=O)C1=CC(=O)[C@@H]2OC3(CCCCC3)O[C@@H]2C1>>COC(=O)C1=C[C@H](O)[C@@H]2OC3(CCCCC3)O[C@@H]2C1                                                                                                                              1\n",
       "[H][C@@]12C[C@H](O)CC[C@]1(CCC(=O)C2)C(=O)OC>>[H][C@]12C[C@@H](O)CC[C@@]1(CC[C@@H](O)C2)C(=O)OC                                                                                                                            1\n",
       "Name: Reaction, dtype: int64"
      ]
     },
     "execution_count": 23,
     "metadata": {},
     "output_type": "execute_result"
    }
   ],
   "source": [
    "cyclo_remove_duplicate['Reaction'].value_counts().head(3)"
   ]
  },
  {
   "cell_type": "code",
   "execution_count": 24,
   "id": "bad57504",
   "metadata": {},
   "outputs": [
    {
     "name": "stdout",
     "output_type": "stream",
     "text": [
      "Number of Reactions: 768\n",
      "Number of Rows: 768\n"
     ]
    }
   ],
   "source": [
    "cyclo_remove_duplicate = cyclo_remove_duplicate.drop_duplicates( subset = 'Reaction')\n",
    "count_num_reaction(cyclo_remove_duplicate)\n",
    "count_num_row(cyclo_remove_duplicate)"
   ]
  },
  {
   "cell_type": "markdown",
   "id": "9aeb5319",
   "metadata": {},
   "source": [
    "### <span style=\"color:blue\"> Step 6: Manually verify reaction by checking literature </span>"
   ]
  },
  {
   "cell_type": "markdown",
   "id": "d37c1730",
   "metadata": {},
   "source": [
    "----------"
   ]
  },
  {
   "cell_type": "markdown",
   "id": "f736073f",
   "metadata": {},
   "source": [
    "## <span style=\"color:blue\"> Histogram of Yield (number) </span>"
   ]
  },
  {
   "cell_type": "markdown",
   "id": "6008e1d4",
   "metadata": {},
   "source": [
    "---------\n",
    "#### Save data - cyclo5,6ketone"
   ]
  }
 ],
 "metadata": {
  "kernelspec": {
   "display_name": "Python 3.9.13 ('base')",
   "language": "python",
   "name": "python3"
  },
  "language_info": {
   "codemirror_mode": {
    "name": "ipython",
    "version": 3
   },
   "file_extension": ".py",
   "mimetype": "text/x-python",
   "name": "python",
   "nbconvert_exporter": "python",
   "pygments_lexer": "ipython3",
   "version": "3.9.13"
  },
  "vscode": {
   "interpreter": {
    "hash": "3c3eef991fda4167de76cb619227e3e082741d590237b5216c9ef2b93b88359b"
   }
  }
 },
 "nbformat": 4,
 "nbformat_minor": 5
}
