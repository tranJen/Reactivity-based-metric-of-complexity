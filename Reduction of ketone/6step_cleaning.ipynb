{
 "cells": [
  {
   "cell_type": "code",
   "execution_count": 1,
   "id": "e31120cc",
   "metadata": {},
   "outputs": [],
   "source": [
    "import pandas as pd\n",
    "import os\n",
    "import matplotlib.pyplot as plt\n",
    "\n",
    "from count_view_Reaction import *\n",
    "from step1_to_4 import *"
   ]
  },
  {
   "cell_type": "code",
   "execution_count": 2,
   "id": "84e81099",
   "metadata": {},
   "outputs": [],
   "source": [
    "# Change working directory\n",
    "os.chdir('/Users/suongsuong/Documents/GitHub/Reactivity-based-metric-of-complexity/Reduction of ketone/')"
   ]
  },
  {
   "cell_type": "markdown",
   "metadata": {},
   "source": [
    "# <span style=\"color:blue\"> Search data on Reaxys </span>\n",
    "\n",
    "#### ketone in chain\n",
    "- Draw as shown\n",
    "<img src=\"Reaxys_Raw data/ketone_in_chain_search.png\" width=\"400\" height=\"180\">\n",
    "- Choose ‘as substructure’ then ‘On all atoms’\n",
    "- Limit to ‘sodium tetrahydroborate’, single-step, article\n",
    "- Exclude NA yield → **10,868 reactions**\n",
    "\n",
    "#### ketone in ring\n",
    "- Draw as shown\n",
    "<img src=\"Reaxys_Raw data/ketone_in_ring_search.png\" width=\"400\" height=\"180\">\n",
    "- Choose ‘as substructure’ then ‘On all atoms’\n",
    "- Limit to ‘sodium tetrahydroborate’, single-step, article\n",
    "- Exclude NA yield → **11,432 reactions**\n",
    "\n",
    "#### ketone in cyclopentanone and cyclohexanone\n",
    "- Draw as shown (similiar to cyclopentanone)\n",
    "<img src=\"Reaxys_Raw data/ketone_in_cyclo5,6_search.png\" width=\"400\" height=\"180\">\n",
    "- Choose ‘as substructure’ then ‘On all atoms’\n",
    "- Limit to ‘sodium tetrahydroborate’, single-step, article\n",
    "- Exclude NA yield → **5421 reactions** (some of these are included in the dataset above)"
   ]
  },
  {
   "cell_type": "markdown",
   "id": "6202b702",
   "metadata": {},
   "source": [
    "# <span style=\"color:blue\"> Import data </span>\n",
    "\n",
    "- Double check number of reactions"
   ]
  },
  {
   "cell_type": "code",
   "execution_count": 3,
   "id": "b757b2c1",
   "metadata": {},
   "outputs": [
    {
     "name": "stdout",
     "output_type": "stream",
     "text": [
      "Number of Reactions: 11432\n",
      "Number of Rows: 21137\n"
     ]
    }
   ],
   "source": [
    "ketone_in_ring = pd.read_excel('Reaxys_Raw data/ketone_in_ring.xlsx')\n",
    "count_num_reaction(ketone_in_ring)\n",
    "count_num_row(ketone_in_ring)"
   ]
  },
  {
   "cell_type": "markdown",
   "id": "964508b2",
   "metadata": {},
   "source": [
    "Because of the searching query, this data includes the reduction of cyclo-5,6-ketone.\n",
    "Concat both data, then process (including remove duplicates rows)"
   ]
  },
  {
   "cell_type": "code",
   "execution_count": 4,
   "id": "7c21db89",
   "metadata": {},
   "outputs": [
    {
     "name": "stdout",
     "output_type": "stream",
     "text": [
      "Number of Reactions: 5421\n",
      "Number of Rows: 11834\n"
     ]
    }
   ],
   "source": [
    "cyclo_56_ketone = pd.read_excel('Reaxys_Raw data/cyclo5,6.xlsx')\n",
    "count_num_reaction(cyclo_56_ketone)\n",
    "count_num_row(cyclo_56_ketone)"
   ]
  },
  {
   "cell_type": "code",
   "execution_count": 5,
   "id": "3734e8ae",
   "metadata": {},
   "outputs": [
    {
     "name": "stdout",
     "output_type": "stream",
     "text": [
      "Rows only in ketone_in_ring:\n",
      "Number of Reactions: 11428\n",
      "Number of Rows: 21131\n",
      "Rows after appending:\n",
      "Number of Reactions: 11617\n",
      "Number of Rows: 32965\n"
     ]
    }
   ],
   "source": [
    "merged = pd.merge(ketone_in_ring,cyclo_56_ketone, indicator=True, how='outer')\n",
    "\n",
    "# Get the on only in ketone_ring \n",
    "only_ketone_ring = merged[merged['_merge'] == 'left_only'].drop('_merge', axis = 1)\n",
    "print('Rows only in ketone_in_ring:')\n",
    "count_num_reaction(only_ketone_ring)\n",
    "count_num_row(only_ketone_ring)\n",
    "\n",
    "# then append original cyclo_56_ketone\n",
    "full_cyclo_ketone = pd.concat([only_ketone_ring, cyclo_56_ketone], ignore_index=True)\n",
    "print('Rows after appending:')\n",
    "count_num_reaction(full_cyclo_ketone)\n",
    "count_num_row(full_cyclo_ketone)"
   ]
  },
  {
   "cell_type": "code",
   "execution_count": 6,
   "metadata": {},
   "outputs": [
    {
     "name": "stdout",
     "output_type": "stream",
     "text": [
      "Number of Reactions: 10868\n",
      "Number of Rows: 42306\n"
     ]
    }
   ],
   "source": [
    "ketone_in_chain= pd.read_excel('Reaxys_Raw data/ketone_in_chain.xlsx')\n",
    "count_num_reaction(ketone_in_chain)\n",
    "count_num_row(ketone_in_chain)"
   ]
  },
  {
   "cell_type": "code",
   "execution_count": 7,
   "metadata": {},
   "outputs": [
    {
     "name": "stdout",
     "output_type": "stream",
     "text": [
      "Number of Reactions: 10868\n",
      "Number of Rows: 42306\n"
     ]
    }
   ],
   "source": [
    "ketone = pd.concat([ketone_in_chain,full_cyclo_ketone],ignore_index=True)\n",
    "count_num_reaction(ketone_in_chain)\n",
    "count_num_row(ketone_in_chain)"
   ]
  },
  {
   "cell_type": "markdown",
   "id": "ae8ebf8a",
   "metadata": {},
   "source": [
    "###  <span style=\"color:blue\"> Step 1: General Cleaning</span>\n",
    "### <span style=\"color:blue\"> Step 2: Verify reaction by MW</span>\n",
    "### <span style=\"color:blue\"> Step 3: Verify reaction by change in C-O bonds</span>\n",
    "### <span style=\"color:blue\"> Step 4: Ensure consistent reaction conditions</span>"
   ]
  },
  {
   "cell_type": "code",
   "execution_count": 8,
   "id": "03bb5c7d",
   "metadata": {},
   "outputs": [
    {
     "name": "stdout",
     "output_type": "stream",
     "text": [
      "STEP 1 - general cleaning:\n",
      "Number of Reactions: 10498\n",
      "---------------------------------------\n"
     ]
    },
    {
     "name": "stderr",
     "output_type": "stream",
     "text": [
      "[17:27:33] Explicit valence for atom # 9 N, 4, is greater than permitted\n",
      "[17:27:33] Explicit valence for atom # 9 N, 4, is greater than permitted\n"
     ]
    },
    {
     "name": "stdout",
     "output_type": "stream",
     "text": [
      "STEP 2 - Verify reaction by change in MW:\n",
      "Number of Reactions: 9063\n",
      "---------------------------------------\n",
      "STEP 3 - Verify reaction by change in C-O bond:\n",
      "Number of Reactions: 9033\n",
      "---------------------------------------\n",
      "STEP 4 - Ensure consistent reaction conditions:\n",
      " - After filtering by reagent:\n",
      "Number of Reactions: 6444\n",
      " - After filtering by solvent:\n",
      "Number of Reactions: 3678\n",
      " - After filtering by temperature:\n",
      "Number of Reactions: 1405\n",
      " - After filtering by time:\n",
      "Number of Reactions: 1399\n",
      "Number of Rows: 1432\n"
     ]
    }
   ],
   "source": [
    "ketone_clean_1_to_4 = step_1_to_4(ketone)"
   ]
  },
  {
   "cell_type": "markdown",
   "id": "2a12efe7",
   "metadata": {},
   "source": [
    "### <span style=\"color:blue\"> Step 5: Inspect duplicate rows </span>"
   ]
  },
  {
   "cell_type": "markdown",
   "metadata": {},
   "source": [
    "#### Ketone in Ring dataset\n",
    "<span style=\"color:salmon\"> Reaction ID = 5228268 </span> \n",
    "different time, the right time is 0.5\n",
    "=> Keep the one having time of 0.5 h\n",
    "\n",
    "<span style=\"color:salmon\"> Reaction ID = 2227545 </span> \n",
    "Same reaction, different reacting time with 2 different yields \n",
    "--- 1h reaction ~ 90 % &\n",
    "1.5h reaction ~ 82% (from very old paper)\n",
    "=> Keep the one having 90% yield\n",
    "\n",
    "<span style=\"color:salmon\"> Reaction ID = 8974540 </span>\n",
    "2 references with 2 different time and yield. The one yielding 70% is overall yield including other reaction \n",
    "=> Keep the one having 97% yield\n",
    "\n",
    "<span style=\"color:salmon\"> Reaction ID = 31427347 </span>\n",
    "2 references with 2 different time and yield. The one yielding 99% having no reaction, or procedure reported.\n",
    "=> Keep the one having 100% yield\n",
    "\n",
    "<span style=\"color:salmon\"> Reaction ID = 5125708 </span>\n",
    "Same reaction, conditions, 2 reported yields (96% vs 96.3%) from 2 references with same title, same authors but published in 2 different years in 2 different journals. \n",
    "=> Both were actually 96%. Keep the one having 96% yield\n",
    "\n",
    "<span style=\"color:salmon\"> Reaction ID = 10088666</span> \n",
    "Not purifying in both paper\n",
    "=> Remove both\n",
    "\n",
    "<span style=\"color:salmon\"> Reaction ID =  4899473, 40358815, 26019020, 26019012, 35575077, 2451291,  2839467 </span> \n",
    "Same reaction, conditions, yield, but different journals\n",
    "=> keep 1, no matter which\n",
    "\n",
    "<span style=\"color:salmon\"> Reaction ID = 50834932 </span> \n",
    "Same reaction, different reacting time with 2 different yields.\n",
    "The one yielding 94% have no procedure reported \n",
    "=> Keep the one having 96% yield\n",
    "\n",
    "<span style=\"color:salmon\"> Reaction ID = 5103599 </span> \n",
    "Same reaction, different reacting time with 2 different yields \n",
    "--- 12h reaction ~ 83% (no procedure reported)\n",
    "0.5h reaction ~ 96.7% \n",
    "=> keep one yielding 83%\n",
    "\n",
    "<span style=\"color:salmon\"> Reaction ID = 1159290 </span> \n",
    "Same reaction, conditions, 2 references reported 2 different yields\n",
    "=> Too different. Remove both\n",
    "\n",
    "<span style=\"color:salmon\"> Reaction ID = 32575260 </span> \n",
    "Same yield reported (2 references) for same reaction of same reaction conditions.\n",
    "Check the literatures: the yields are actually 74% and 23% (not 73 and 24) for both. \n",
    "Note for later if needed because this difference does not affect the sum for now.\n",
    "=> keep 1, no matter which\n",
    "\n",
    "#### Ketone in Chain dataset\n",
    "<span style=\"color:salmon\"> Reaction ID = 578384 </span>\n",
    "Difference references.\n",
    "Reaction of 64%% yield is defined by LCMS\n",
    "The one of 95% has no purification step\n",
    "=> keep the one of 64% yield\n",
    "\n",
    "<span style=\"color:salmon\"> Reaction ID = 782191 </span>\n",
    "Difference references.\n",
    "Reaction of 27%% yield is defined by LCMS\n",
    "The other one is 63% \n",
    "=> Too different, remove\n",
    "\n",
    "<span style=\"color:salmon\"> Reaction ID = 39265034 </span>\n",
    "Difference references.\n",
    "Reaction of 90% yield having wrong temperature\n",
    "The one of 100% have no purification step \n",
    "=> Keep the one having 100 % for now\n",
    "\n",
    "<span style=\"color:salmon\"> Reaction ID = 1985375 </span>\n",
    "Difference references, the right reaction is 0.5 h and 80 %. The other one has no procedure reported\n",
    "=> Keep the one having 80 %\n",
    "\n",
    "<span style=\"color:salmon\"> Reaction ID = 2163086 </span>\n",
    "Difference references, the right reaction is 1.5 h and 95 %. The other one has no procedure reported\n",
    "=> Keep the one having 95 %\n",
    "\n",
    "<span style=\"color:salmon\"> Reaction ID = 2163086 </span>\n",
    "Same reference\n",
    "The right reaction is 1h and 67%\n",
    "=> Keep the one having 67%\n",
    "\n",
    "<span style=\"color:salmon\"> Reaction ID = 997369 </span>\n",
    "The reaction of 0.5h and 90% yield. the time was wrongly reported, it's actually 2/3 h. The other 2 are correct. \n",
    "Keep the one having 2/3h and 90%. \n",
    "=> Keep the one having 2/3 h reacting time, no need to update the other one. \n",
    "\n",
    "<span style=\"color:salmon\"> Reaction ID = 855977 </span>\n",
    "The reaction having 960% yield. no detailed procedure reported\n",
    "=> Keep the one having 100%\n",
    "\n",
    "<span style=\"color:salmon\"> Reaction ID = 2532675 </span>\n",
    "Exact same reference.\n",
    "=> Keep the one having the right yield which is 47 percent; 45 percent\n",
    "\n",
    "<span style=\"color:salmon\"> Reaction ID =  34623882, 34623878, 34623890, 4551209,46506389, 38244374  </span> \n",
    "Same reaction, conditions, yield, but different journals\n",
    "=> keep 1, no matter which\n",
    "\n",
    "\n",
    "#### Based on comments above, handle duplicated rows and update yields. Note for later when verifying reactions with literatures."
   ]
  },
  {
   "cell_type": "code",
   "execution_count": 9,
   "id": "afa57b18",
   "metadata": {},
   "outputs": [
    {
     "name": "stdout",
     "output_type": "stream",
     "text": [
      "Number of Reactions: 1396\n",
      "Number of Rows: 1396\n"
     ]
    }
   ],
   "source": [
    "id_toremove = [10088666, 1159290, 782191]\n",
    "id_tokeep1_nomatter = [4899473, 40358815, 26019020, 26019012, 35575077, 2451291, 2839467, 32575260,34623882, 34623878, 34623890, 4551209,46506389, 38244374]\n",
    "id_tokeep1_condition = [5228268, 8974540, 31427347, 5125708, 50834932, 5103599,2227545,855977, 2163086,2104996,1985375, 39265034, 578384, 78219,2532675,997369]\n",
    "conditions = [\n",
    "    (5228268, 'Time (Reaction Details) [h]', 0.5),\n",
    "    (8974540, 'Yield (number)', 97),\n",
    "    (31427347, 'Yield (number)', 100),\n",
    "    (5125708, 'Yield (number)', 96),\n",
    "    (50834932, 'Yield (number)', 96),\n",
    "    (5103599, 'Yield (number)', 83),\n",
    "    (2227545, 'Yield (number)', 90),\n",
    "\n",
    "    (855977, 'Yield (number)', 100),\n",
    "    (2163086, 'Yield (number)', 67),\n",
    "    (2104996, 'Yield (number)', 95),\n",
    "    (1985375, 'Yield (number)', 80),\n",
    "    (39265034, 'Yield (number)', 100),\n",
    "    (578384, 'Yield (number)', 64),\n",
    "    (2532675, 'Yield', '47 percent; 45 percent'),\n",
    "    (997369, 'Time (Reaction Details) [h]', 0.666667)\n",
    "\n",
    "]\n",
    "\n",
    "# Keep 1 no matter\n",
    "remove_duplicate = pd.concat([\n",
    "    ketone_clean_1_to_4[ketone_clean_1_to_4['Reaction ID'].isin(id_tokeep1_nomatter)].drop_duplicates(subset=['Reaction ID']),\n",
    "    ketone_clean_1_to_4[~ketone_clean_1_to_4['Reaction ID'].isin(id_tokeep1_nomatter)]\n",
    "])\n",
    "# Remove rows with 'Reaction ID' in id_toremove\n",
    "remove_duplicate = remove_duplicate[~remove_duplicate['Reaction ID'].isin(id_toremove)]\n",
    "\n",
    "# Keep 1 with condition\n",
    "not_conditions = remove_duplicate[~remove_duplicate['Reaction ID'].isin(id_tokeep1_condition)]\n",
    "condition_rows = [remove_duplicate[(remove_duplicate['Reaction ID'] == id) & (remove_duplicate[col] == val)] for id, col, val in conditions]\n",
    "remove_duplicate = pd.concat([not_conditions] + condition_rows)\n",
    "\n",
    "count_num_reaction(remove_duplicate)\n",
    "count_num_row(remove_duplicate)\n",
    "\n"
   ]
  },
  {
   "cell_type": "markdown",
   "id": "6c1f7dd6",
   "metadata": {},
   "source": [
    "#### <span style=\"color:salmon\"> Verify duplicated rows by reaction SMILES </span> \n",
    "\n",
    "There are 2 reaction are the same but were assigned to different ID: 48228963 and 48228690\n",
    "Everything else are the same -> keep 1"
   ]
  },
  {
   "cell_type": "code",
   "execution_count": 10,
   "id": "bad57504",
   "metadata": {},
   "outputs": [
    {
     "name": "stdout",
     "output_type": "stream",
     "text": [
      "Number of Reactions: 1395\n",
      "Number of Rows: 1395\n"
     ]
    }
   ],
   "source": [
    "remove_duplicate = remove_duplicate.drop_duplicates( subset = 'Reaction')\n",
    "count_num_reaction(remove_duplicate)\n",
    "count_num_row(remove_duplicate)"
   ]
  },
  {
   "cell_type": "markdown",
   "metadata": {},
   "source": [
    "### <span style=\"color:blue\"> Step 6: Manually verification of data </span>"
   ]
  },
  {
   "cell_type": "code",
   "execution_count": 11,
   "id": "cebf32cc",
   "metadata": {},
   "outputs": [
    {
     "name": "stdout",
     "output_type": "stream",
     "text": [
      "Number of Reactions: 482\n",
      "Number of Rows: 487\n"
     ]
    }
   ],
   "source": [
    "# manually check error data\n",
    "error_inRing = pd.read_excel('error and procedure/ketonInRing_error.xlsx')\n",
    "error_inChain = pd.read_excel('error and procedure/ketonInChain_error.xlsx')\n",
    "error_concat = pd.concat([error_inRing, error_inChain],ignore_index=True)\n",
    "count_num_reaction(error_concat)\n",
    "count_num_row(error_concat)"
   ]
  },
  {
   "cell_type": "code",
   "execution_count": 12,
   "id": "ef78119b",
   "metadata": {},
   "outputs": [
    {
     "data": {
      "image/png": "[encoded data removed]",
      "text/plain": [
       "<Figure size 800x600 with 1 Axes>"
      ]
     },
     "metadata": {},
     "output_type": "display_data"
    }
   ],
   "source": [
    "error_counts = error_concat['Error'].value_counts()\n",
    "\n",
    "# Plot the stats of error\n",
    "plt.figure(figsize=(8, 6))\n",
    "ax = error_counts.plot(kind='barh', color=[\n",
    "    'lightcoral' if error in [\n",
    "        'wrong solvent', 'wrong temperature', 'duplicated reaction but different reaction ID', \n",
    "        'no exact yield number reported', 'no time reported', 'requesting','no purification step', 'no detailed procedure',\n",
    "        'wrong reagent/reactant'\n",
    "    ] else 'cornflowerblue' for error in error_counts.index\n",
    "])\n",
    "# Add labels and percentages\n",
    "plt.xlabel('Count')\n",
    "total = remove_duplicate.shape[0]\n",
    "for i, count in enumerate(error_counts):\n",
    "    ax.text(count + 1, i, f'{(count / total * 100):.1f}%', va='center')\n",
    "\n",
    "# Customize the plot\n",
    "ax.spines[['top', 'bottom', 'left', 'right']].set_visible(False)\n",
    "ax.xaxis.set_ticks_position('none')\n",
    "ax.yaxis.set_ticks_position('none')\n",
    "ax.xaxis.set_tick_params(pad=5)\n",
    "ax.yaxis.set_tick_params(pad=10)\n",
    "ax.grid(visible=True, color='grey', linestyle='-.', linewidth=0.5, alpha=0.2)\n",
    "\n",
    "plt.show()"
   ]
  },
  {
   "cell_type": "code",
   "execution_count": 13,
   "id": "6565dbeb",
   "metadata": {},
   "outputs": [
    {
     "name": "stdout",
     "output_type": "stream",
     "text": [
      "Number of Reactions: 962\n"
     ]
    }
   ],
   "source": [
    "manual_check = remove_duplicate\n",
    "# Update/Remove reactions having error\n",
    "\n",
    "for idx, row in error_concat.iterrows():\n",
    "    # remove rows having these error\n",
    "    if row['Error'] in ['wrong solvent', 'wrong temperature', 'duplicated reaction but different reaction ID', \n",
    "        'no exact yield number reported', 'requesting','no purification step', 'no detailed procedure',\n",
    "        'wrong reagent/reactant']:\n",
    "        countrow = manual_check.shape[0]\n",
    "        manual_check = manual_check.drop(manual_check[manual_check['Reaction ID'] == row['Reaction ID']].index)\n",
    "    # update wrong yield\n",
    "    elif row['Error'] in ['wrong yield' , 'report yields of diastereomers']:\n",
    "        manual_check.loc[manual_check['Reaction ID'] == row['Reaction ID'], 'Yield'] = row['actual']\n",
    "    # update yield (number)\n",
    "        manual_check['Yield'] = manual_check['Yield'].astype(str)\n",
    "        manual_check['Yield (number)'] = manual_check['Yield'].apply(extract_yield)\n",
    "        manual_check['Yield (number)'] = pd.to_numeric(manual_check['Yield (number)'], errors='raise')\n",
    "    # update time \n",
    "    elif row['Error'] == 'wrong time':\n",
    "        manual_check.loc[manual_check['Reaction ID'] == row['Reaction ID'], 'Time (Reaction Details) [h]'] = row['actual']\n",
    "    # update structure\n",
    "    elif row['Error'] == 'wrong structure':\n",
    "        manual_check.loc[manual_check['Reaction ID'] == row['Reaction ID'], 'Reaction'] = row['actual']\n",
    "\n",
    "count_num_reaction(manual_check)"
   ]
  },
  {
   "cell_type": "code",
   "execution_count": 14,
   "metadata": {},
   "outputs": [
    {
     "name": "stdout",
     "output_type": "stream",
     "text": [
      "Number of Reactions: 962\n"
     ]
    }
   ],
   "source": [
    "inRing_procedure = pd.read_excel('error and procedure/ketonInRing_procedure.xlsx')\n",
    "inChain_procedure = pd.read_excel('error and procedure/ketonInChain_procedure.xlsx')\n",
    "procedure = pd.concat([inRing_procedure,inChain_procedure],ignore_index=True)\n",
    "\n",
    "# Add 'Procedure' for each reaction\n",
    "clean_reduction_ketone = manual_check.merge(procedure, on='Reaction ID')\n",
    "count_num_reaction(clean_reduction_ketone)"
   ]
  },
  {
   "cell_type": "markdown",
   "metadata": {},
   "source": [
    "#### extract reactant and product again"
   ]
  },
  {
   "cell_type": "code",
   "execution_count": 15,
   "metadata": {},
   "outputs": [],
   "source": [
    "clean_reduction_ketone = getReactandProduct(clean_reduction_ketone)\n",
    "clean_reduction_ketone['Reactant MW'] = clean_reduction_ketone.apply(lambda x: round(get_largest_reactant_MW( x['Reactant SMILES']),3), axis=1)"
   ]
  },
  {
   "cell_type": "markdown",
   "id": "d37c1730",
   "metadata": {},
   "source": [
    "----------\n",
    "## <span style=\"color:blue\"> Histogram of Yield (number) </span>"
   ]
  },
  {
   "cell_type": "code",
   "execution_count": 16,
   "id": "2bf44c88",
   "metadata": {},
   "outputs": [
    {
     "data": {
      "image/png": "[encoded data removed]",
      "text/plain": [
       "<Figure size 800x600 with 1 Axes>"
      ]
     },
     "metadata": {},
     "output_type": "display_data"
    },
    {
     "name": "stdout",
     "output_type": "stream",
     "text": [
      "Statistic of Yield:\n"
     ]
    },
    {
     "data": {
      "text/plain": [
       "count    962.000000\n",
       "mean      79.052599\n",
       "std       19.219174\n",
       "min        3.000000\n",
       "25%       70.225000\n",
       "50%       85.000000\n",
       "75%       93.000000\n",
       "max      101.000000\n",
       "Name: Yield (number), dtype: float64"
      ]
     },
     "execution_count": 16,
     "metadata": {},
     "output_type": "execute_result"
    }
   ],
   "source": [
    "plt.figure(figsize=(8, 6))\n",
    "plt.hist(clean_reduction_ketone['Yield (number)'], bins=30, color='cornflowerblue', edgecolor='black')\n",
    "plt.xlabel('Yield')\n",
    "#plt.xticks(np.arange(0, 100, step=10))\n",
    "plt.ylabel('Count')\n",
    "\n",
    "# Customize \n",
    "ax = plt.gca()  \n",
    "ax.spines[['top', 'bottom', 'left', 'right']].set_visible(False)\n",
    "ax.xaxis.set_ticks_position('none')\n",
    "ax.yaxis.set_ticks_position('none')\n",
    "ax.xaxis.set_tick_params(pad=5)\n",
    "ax.yaxis.set_tick_params(pad=10)\n",
    "ax.grid(visible=True, color='grey', linestyle='-.', linewidth=0.5, alpha=0.2)\n",
    "\n",
    "plt.show()\n",
    "\n",
    "print('Statistic of Yield:')\n",
    "manual_check['Yield (number)'].describe()"
   ]
  },
  {
   "cell_type": "markdown",
   "metadata": {},
   "source": [
    "-----\n",
    "## <span style=\"color:blue\"> Save data </span>"
   ]
  },
  {
   "cell_type": "code",
   "execution_count": 17,
   "metadata": {},
   "outputs": [],
   "source": [
    "clean_reduction_ketone.to_excel('ReductionKetone_6stepCleaning.xlsx', index=False)"
   ]
  }
 ],
 "metadata": {
  "kernelspec": {
   "display_name": "Python 3.9.13 ('base')",
   "language": "python",
   "name": "python3"
  },
  "language_info": {
   "codemirror_mode": {
    "name": "ipython",
    "version": 3
   },
   "file_extension": ".py",
   "mimetype": "text/x-python",
   "name": "python",
   "nbconvert_exporter": "python",
   "pygments_lexer": "ipython3",
   "version": "3.9.19"
  },
  "orig_nbformat": 4,
  "vscode": {
   "interpreter": {
    "hash": "3c3eef991fda4167de76cb619227e3e082741d590237b5216c9ef2b93b88359b"
   }
  }
 },
 "nbformat": 4,
 "nbformat_minor": 2
}
