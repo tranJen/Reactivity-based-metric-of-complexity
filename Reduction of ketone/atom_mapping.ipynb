{
 "cells": [
  {
   "cell_type": "code",
   "execution_count": 13,
   "metadata": {},
   "outputs": [],
   "source": [
    "from rdkit import Chem\n",
    "from rdkit.Chem import rdChemReactions\n",
    "from localmapper import localmapper\n",
    "import pandas as pd\n",
    "import os\n",
    "\n",
    "# Change working directory\n",
    "os.chdir('/Users/suongsuong/Documents/GitHub/Reactivity-based-metric-of-complexity/Reduction of ketone/')"
   ]
  },
  {
   "cell_type": "code",
   "execution_count": 14,
   "metadata": {},
   "outputs": [],
   "source": [
    "def get_ReactantAndProduct_mapping(rxn_map):\n",
    "    '''for 1 reactant to 1 product'''\n",
    "    rxn = rdChemReactions.ReactionFromSmarts(rxn_map)\n",
    "    products = rxn.GetProducts()\n",
    "    reactants = rxn.GetReactants()\n",
    "    # the index (counting from 1) is now set the same to the atom map number\n",
    "    product_smiles = Chem.MolToSmiles(products[0])\n",
    "    reactants_smiles = Chem.MolToSmiles(reactants[0])\n",
    "    return reactants_smiles,product_smiles\n",
    "\n",
    "\n",
    "def get_indx_CObond_change(reactants_smiles_map, product_smiles_map):\n",
    "    '''take reactant smiles and product smiles with mapped and re-order to match reactant and product,\n",
    "    return the index of C and O (in reactants) that changed from C=O to C-OH\n",
    "    This is only for single change only'''\n",
    "    reactant_mol = Chem.MolFromSmiles(reactants_smiles_map)\n",
    "    product_mol = Chem.MolFromSmiles(product_smiles_map)\n",
    "\n",
    "    # Get bonds from both molecules\n",
    "    reactant_bonds = {(bond.GetBeginAtomIdx(), bond.GetEndAtomIdx(), bond.GetBondType()) for bond in reactant_mol.GetBonds()}\n",
    "    product_bonds = {(bond.GetBeginAtomIdx(), bond.GetEndAtomIdx(), bond.GetBondType()) for bond in product_mol.GetBonds()}\n",
    "\n",
    "    # Find bond change from C=O to O-H\n",
    "    for bond in reactant_bonds:\n",
    "        if bond not in product_bonds:\n",
    "            idx1, idx2, bond_type = bond\n",
    "            atom1 = reactant_mol.GetAtomWithIdx(idx1)\n",
    "            atom2 = reactant_mol.GetAtomWithIdx(idx2)\n",
    "            bond_changed_btwn = ['C', 'O']\n",
    "            if atom1.GetSymbol() in bond_changed_btwn and atom2.GetSymbol() in bond_changed_btwn and  atom1.GetSymbol() !=  atom2.GetSymbol() :\n",
    "                if bond_type == Chem.rdchem.BondType.DOUBLE:\n",
    "                    if atom1.GetSymbol() == 'C' and atom2.GetSymbol() == 'O':\n",
    "                        C_idx = idx1 + 1\n",
    "                        O_idx = idx2 + 1\n",
    "                    elif atom1.GetSymbol() == 'O' and atom2.GetSymbol() == 'C':\n",
    "                        C_idx = idx2 + 1\n",
    "                        O_idx = idx1 + 1\n",
    "                    return C_idx, O_idx\n",
    "    return None,None\n"
   ]
  },
  {
   "cell_type": "code",
   "execution_count": 15,
   "metadata": {},
   "outputs": [],
   "source": [
    "clean_df = pd.read_excel('ReductionKetone_6stepCleaning.xlsx', engine='openpyxl')"
   ]
  },
  {
   "cell_type": "code",
   "execution_count": null,
   "metadata": {},
   "outputs": [],
   "source": [
    "atomMap_df = clean_df.copy()\n",
    "mapper = localmapper()\n",
    "\n",
    "#atom-mapping to get the same order of atom in reactant and product\n",
    "atomMap_df['Reaction Map'] = atomMap_df.apply(lambda x: mapper.get_atom_map( x['Reaction']), axis=1)\n",
    "atomMap_df['Reactant smiles map'] = atomMap_df.apply(lambda x: get_ReactantAndProduct_mapping(x['Reaction Map'])[0], axis=1)\n",
    "atomMap_df['Product smiles map'] = atomMap_df.apply(lambda x: get_ReactantAndProduct_mapping(x['Reaction Map'])[1], axis=1)\n",
    "\n",
    "#get index of the molecule\n",
    "atomMap_df['C_idx, O_idx']  = atomMap_df.apply(lambda x: get_indx_CObond_change(x['Reactant smiles map'], x['Product smiles map']), axis=1)\n",
    "atomMap_df[['C_idx', 'O_idx']] = pd.DataFrame(atomMap_df['C_idx, O_idx'].tolist(), index=atomMap_df.index)\n",
    "atomMap_df = atomMap_df.drop(columns=['C_idx, O_idx'])"
   ]
  },
  {
   "cell_type": "code",
   "execution_count": 18,
   "metadata": {},
   "outputs": [],
   "source": [
    "atomMap_df.to_excel('ReductionKetone_atomMapping.xlsx',index=False)"
   ]
  }
 ],
 "metadata": {
  "kernelspec": {
   "display_name": "Python 3.6.13 ('localmapper')",
   "language": "python",
   "name": "python3"
  },
  "language_info": {
   "codemirror_mode": {
    "name": "ipython",
    "version": 3
   },
   "file_extension": ".py",
   "mimetype": "text/x-python",
   "name": "python",
   "nbconvert_exporter": "python",
   "pygments_lexer": "ipython3",
   "version": "3.6.13"
  },
  "orig_nbformat": 4,
  "vscode": {
   "interpreter": {
    "hash": "dc349d620c50dbb51df7164c28ea03c3c8c0de1c193c75fa6415a665b373b36f"
   }
  }
 },
 "nbformat": 4,
 "nbformat_minor": 2
}
